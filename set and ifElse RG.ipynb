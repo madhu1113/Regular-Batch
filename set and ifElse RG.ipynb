{
 "cells": [
  {
   "cell_type": "code",
   "execution_count": 1,
   "id": "521c288f",
   "metadata": {},
   "outputs": [],
   "source": [
    "s = {}"
   ]
  },
  {
   "cell_type": "code",
   "execution_count": 2,
   "id": "dc4c7e4a",
   "metadata": {},
   "outputs": [
    {
     "data": {
      "text/plain": [
       "dict"
      ]
     },
     "execution_count": 2,
     "metadata": {},
     "output_type": "execute_result"
    }
   ],
   "source": [
    "type(s)"
   ]
  },
  {
   "cell_type": "code",
   "execution_count": 3,
   "id": "331121e4",
   "metadata": {},
   "outputs": [],
   "source": [
    "s = {1,2,3,4,5,6,7,\"Manish\"}"
   ]
  },
  {
   "cell_type": "code",
   "execution_count": 4,
   "id": "c6799c2d",
   "metadata": {},
   "outputs": [
    {
     "data": {
      "text/plain": [
       "set"
      ]
     },
     "execution_count": 4,
     "metadata": {},
     "output_type": "execute_result"
    }
   ],
   "source": [
    "type(s)"
   ]
  },
  {
   "cell_type": "code",
   "execution_count": 5,
   "id": "ca494f1b",
   "metadata": {},
   "outputs": [],
   "source": [
    "d  = {\"name\":\"Narayana\", \"class\":\"2nd year\", \"Branch\":\"CSE\"}"
   ]
  },
  {
   "cell_type": "code",
   "execution_count": 6,
   "id": "2a677246",
   "metadata": {},
   "outputs": [
    {
     "data": {
      "text/plain": [
       "dict"
      ]
     },
     "execution_count": 6,
     "metadata": {},
     "output_type": "execute_result"
    }
   ],
   "source": [
    "type(d)"
   ]
  },
  {
   "cell_type": "code",
   "execution_count": 7,
   "id": "15dd06f7",
   "metadata": {},
   "outputs": [
    {
     "data": {
      "text/plain": [
       "'Narayana'"
      ]
     },
     "execution_count": 7,
     "metadata": {},
     "output_type": "execute_result"
    }
   ],
   "source": [
    "d[\"name\"]"
   ]
  },
  {
   "cell_type": "code",
   "execution_count": 8,
   "id": "d32756b6",
   "metadata": {},
   "outputs": [
    {
     "data": {
      "text/plain": [
       "'CSE'"
      ]
     },
     "execution_count": 8,
     "metadata": {},
     "output_type": "execute_result"
    }
   ],
   "source": [
    "d[\"Branch\"]"
   ]
  },
  {
   "cell_type": "code",
   "execution_count": 9,
   "id": "0e0a6518",
   "metadata": {},
   "outputs": [
    {
     "data": {
      "text/plain": [
       "{1, 2, 3, 4, 5, 6, 7, 'Manish'}"
      ]
     },
     "execution_count": 9,
     "metadata": {},
     "output_type": "execute_result"
    }
   ],
   "source": [
    "s"
   ]
  },
  {
   "cell_type": "code",
   "execution_count": 10,
   "id": "93fac19c",
   "metadata": {},
   "outputs": [
    {
     "ename": "TypeError",
     "evalue": "'set' object is not subscriptable",
     "output_type": "error",
     "traceback": [
      "\u001b[0;31m---------------------------------------------------------------------------\u001b[0m",
      "\u001b[0;31mTypeError\u001b[0m                                 Traceback (most recent call last)",
      "Input \u001b[0;32mIn [10]\u001b[0m, in \u001b[0;36m<cell line: 1>\u001b[0;34m()\u001b[0m\n\u001b[0;32m----> 1\u001b[0m \u001b[43ms\u001b[49m\u001b[43m[\u001b[49m\u001b[38;5;241;43m0\u001b[39;49m\u001b[43m]\u001b[49m\n",
      "\u001b[0;31mTypeError\u001b[0m: 'set' object is not subscriptable"
     ]
    }
   ],
   "source": [
    "s[0]"
   ]
  },
  {
   "cell_type": "code",
   "execution_count": 11,
   "id": "a2f2b4fc",
   "metadata": {},
   "outputs": [],
   "source": [
    "l = [1, 2, 3, 4, 5, 6, 7, 'Manish']"
   ]
  },
  {
   "cell_type": "code",
   "execution_count": 12,
   "id": "869b2288",
   "metadata": {},
   "outputs": [
    {
     "data": {
      "text/plain": [
       "1"
      ]
     },
     "execution_count": 12,
     "metadata": {},
     "output_type": "execute_result"
    }
   ],
   "source": [
    "l[0]"
   ]
  },
  {
   "cell_type": "code",
   "execution_count": 13,
   "id": "1d76ee41",
   "metadata": {},
   "outputs": [],
   "source": [
    "t= (1, 2, 3, 4, 5, 6, 7, 'Manish')"
   ]
  },
  {
   "cell_type": "code",
   "execution_count": 14,
   "id": "5a86a87d",
   "metadata": {},
   "outputs": [
    {
     "data": {
      "text/plain": [
       "3"
      ]
     },
     "execution_count": 14,
     "metadata": {},
     "output_type": "execute_result"
    }
   ],
   "source": [
    "t[2]"
   ]
  },
  {
   "cell_type": "code",
   "execution_count": 16,
   "id": "86639101",
   "metadata": {},
   "outputs": [],
   "source": [
    "s = {1, 2, 3, 4, 5, 6, 7, 'Manish',2,3,3,3,3,3,7,7,7,8,9,9,9}"
   ]
  },
  {
   "cell_type": "code",
   "execution_count": 17,
   "id": "42ca204f",
   "metadata": {},
   "outputs": [
    {
     "data": {
      "text/plain": [
       "{1, 2, 3, 4, 5, 6, 7, 8, 9, 'Manish'}"
      ]
     },
     "execution_count": 17,
     "metadata": {},
     "output_type": "execute_result"
    }
   ],
   "source": [
    "s"
   ]
  },
  {
   "cell_type": "code",
   "execution_count": 19,
   "id": "f76d1562",
   "metadata": {},
   "outputs": [],
   "source": [
    "s = {(1,2,3,4,5),6,7,8,\"Narayana\"}"
   ]
  },
  {
   "cell_type": "code",
   "execution_count": 20,
   "id": "a289cbf6",
   "metadata": {},
   "outputs": [
    {
     "data": {
      "text/plain": [
       "{(1, 2, 3, 4, 5), 6, 7, 8, 'Narayana'}"
      ]
     },
     "execution_count": 20,
     "metadata": {},
     "output_type": "execute_result"
    }
   ],
   "source": [
    "s"
   ]
  },
  {
   "cell_type": "code",
   "execution_count": 21,
   "id": "6f579c9c",
   "metadata": {},
   "outputs": [
    {
     "ename": "TypeError",
     "evalue": "unhashable type: 'list'",
     "output_type": "error",
     "traceback": [
      "\u001b[0;31m---------------------------------------------------------------------------\u001b[0m",
      "\u001b[0;31mTypeError\u001b[0m                                 Traceback (most recent call last)",
      "Input \u001b[0;32mIn [21]\u001b[0m, in \u001b[0;36m<cell line: 1>\u001b[0;34m()\u001b[0m\n\u001b[0;32m----> 1\u001b[0m s1 \u001b[38;5;241m=\u001b[39m {[\u001b[38;5;241m1\u001b[39m,\u001b[38;5;241m2\u001b[39m,\u001b[38;5;241m3\u001b[39m,\u001b[38;5;241m4\u001b[39m,\u001b[38;5;241m5\u001b[39m],\u001b[38;5;241m6\u001b[39m,\u001b[38;5;241m7\u001b[39m,\u001b[38;5;241m8\u001b[39m,\u001b[38;5;124m\"\u001b[39m\u001b[38;5;124mNarayana\u001b[39m\u001b[38;5;124m\"\u001b[39m}\n",
      "\u001b[0;31mTypeError\u001b[0m: unhashable type: 'list'"
     ]
    }
   ],
   "source": [
    "s1 = {[1,2,3,4,5],6,7,8,\"Narayana\"}"
   ]
  },
  {
   "cell_type": "code",
   "execution_count": 22,
   "id": "3fc66eb4",
   "metadata": {},
   "outputs": [
    {
     "data": {
      "text/plain": [
       "{(1, 2, 3, 4, 5), 6, 7, 8, 'Narayana'}"
      ]
     },
     "execution_count": 22,
     "metadata": {},
     "output_type": "execute_result"
    }
   ],
   "source": [
    "s[]"
   ]
  },
  {
   "cell_type": "code",
   "execution_count": 31,
   "id": "94674aac",
   "metadata": {},
   "outputs": [],
   "source": [
    "s1 = list(s)"
   ]
  },
  {
   "cell_type": "code",
   "execution_count": 32,
   "id": "dcf4a96c",
   "metadata": {},
   "outputs": [
    {
     "data": {
      "text/plain": [
       "'Narayana'"
      ]
     },
     "execution_count": 32,
     "metadata": {},
     "output_type": "execute_result"
    }
   ],
   "source": [
    "s1[0]"
   ]
  },
  {
   "cell_type": "code",
   "execution_count": 33,
   "id": "f625d3c9",
   "metadata": {},
   "outputs": [
    {
     "data": {
      "text/plain": [
       "['Narayana', 6, 7, 8, (1, 2, 3, 4, 5)]"
      ]
     },
     "execution_count": 33,
     "metadata": {},
     "output_type": "execute_result"
    }
   ],
   "source": [
    "s1"
   ]
  },
  {
   "cell_type": "code",
   "execution_count": 35,
   "id": "95b65aa5",
   "metadata": {},
   "outputs": [
    {
     "data": {
      "text/plain": [
       "4"
      ]
     },
     "execution_count": 35,
     "metadata": {},
     "output_type": "execute_result"
    }
   ],
   "source": [
    "s1[4][3]"
   ]
  },
  {
   "cell_type": "code",
   "execution_count": 37,
   "id": "f1b24550",
   "metadata": {},
   "outputs": [],
   "source": [
    "s3 = {'Narayana', 6, 7, 8, (1, 2, 3, 4, 5)}"
   ]
  },
  {
   "cell_type": "code",
   "execution_count": 38,
   "id": "d5509712",
   "metadata": {},
   "outputs": [],
   "source": [
    "s3.discard(7)"
   ]
  },
  {
   "cell_type": "code",
   "execution_count": 39,
   "id": "c3c20179",
   "metadata": {},
   "outputs": [
    {
     "data": {
      "text/plain": [
       "{(1, 2, 3, 4, 5), 6, 8, 'Narayana'}"
      ]
     },
     "execution_count": 39,
     "metadata": {},
     "output_type": "execute_result"
    }
   ],
   "source": [
    "s3"
   ]
  },
  {
   "cell_type": "code",
   "execution_count": 40,
   "id": "e2d73519",
   "metadata": {},
   "outputs": [],
   "source": [
    "s3.remove(6)"
   ]
  },
  {
   "cell_type": "code",
   "execution_count": 41,
   "id": "d3d7d3c1",
   "metadata": {},
   "outputs": [
    {
     "data": {
      "text/plain": [
       "{(1, 2, 3, 4, 5), 8, 'Narayana'}"
      ]
     },
     "execution_count": 41,
     "metadata": {},
     "output_type": "execute_result"
    }
   ],
   "source": [
    "s3"
   ]
  },
  {
   "cell_type": "code",
   "execution_count": 42,
   "id": "823b6153",
   "metadata": {},
   "outputs": [
    {
     "ename": "KeyError",
     "evalue": "0",
     "output_type": "error",
     "traceback": [
      "\u001b[0;31m---------------------------------------------------------------------------\u001b[0m",
      "\u001b[0;31mKeyError\u001b[0m                                  Traceback (most recent call last)",
      "Input \u001b[0;32mIn [42]\u001b[0m, in \u001b[0;36m<cell line: 1>\u001b[0;34m()\u001b[0m\n\u001b[0;32m----> 1\u001b[0m \u001b[43ms3\u001b[49m\u001b[38;5;241;43m.\u001b[39;49m\u001b[43mremove\u001b[49m\u001b[43m(\u001b[49m\u001b[38;5;241;43m0\u001b[39;49m\u001b[43m)\u001b[49m\n",
      "\u001b[0;31mKeyError\u001b[0m: 0"
     ]
    }
   ],
   "source": [
    "s3.remove(0)"
   ]
  },
  {
   "cell_type": "code",
   "execution_count": 43,
   "id": "73bfbfda",
   "metadata": {},
   "outputs": [],
   "source": [
    "s3.discard(0)"
   ]
  },
  {
   "cell_type": "code",
   "execution_count": 44,
   "id": "e2abd5f9",
   "metadata": {},
   "outputs": [],
   "source": [
    "s4 = {2,3,4,5,6,7,8}"
   ]
  },
  {
   "cell_type": "code",
   "execution_count": 45,
   "id": "0a9aa1f3",
   "metadata": {},
   "outputs": [
    {
     "data": {
      "text/plain": [
       "{8}"
      ]
     },
     "execution_count": 45,
     "metadata": {},
     "output_type": "execute_result"
    }
   ],
   "source": [
    "s3.intersection(s4)"
   ]
  },
  {
   "cell_type": "code",
   "execution_count": 46,
   "id": "d9b65608",
   "metadata": {},
   "outputs": [
    {
     "data": {
      "text/plain": [
       "False"
      ]
     },
     "execution_count": 46,
     "metadata": {},
     "output_type": "execute_result"
    }
   ],
   "source": [
    "s3.isdisjoint(s4)"
   ]
  },
  {
   "cell_type": "code",
   "execution_count": 47,
   "id": "c8243e94",
   "metadata": {},
   "outputs": [],
   "source": [
    "s4 = {1,2,3,4}\n"
   ]
  },
  {
   "cell_type": "code",
   "execution_count": 48,
   "id": "fdec5b92",
   "metadata": {},
   "outputs": [],
   "source": [
    "s5 = {6,7,8,9}"
   ]
  },
  {
   "cell_type": "code",
   "execution_count": 49,
   "id": "0cd3e42f",
   "metadata": {},
   "outputs": [
    {
     "data": {
      "text/plain": [
       "True"
      ]
     },
     "execution_count": 49,
     "metadata": {},
     "output_type": "execute_result"
    }
   ],
   "source": [
    "s4.isdisjoint(s5)"
   ]
  },
  {
   "cell_type": "code",
   "execution_count": 50,
   "id": "06ba19ee",
   "metadata": {},
   "outputs": [
    {
     "data": {
      "text/plain": [
       "set()"
      ]
     },
     "execution_count": 50,
     "metadata": {},
     "output_type": "execute_result"
    }
   ],
   "source": [
    "s4.intersection(s5)"
   ]
  },
  {
   "cell_type": "code",
   "execution_count": 51,
   "id": "4a3b04d5",
   "metadata": {},
   "outputs": [
    {
     "data": {
      "text/plain": [
       "1"
      ]
     },
     "execution_count": 51,
     "metadata": {},
     "output_type": "execute_result"
    }
   ],
   "source": [
    "s4.pop()"
   ]
  },
  {
   "cell_type": "code",
   "execution_count": 52,
   "id": "a2db9a02",
   "metadata": {},
   "outputs": [
    {
     "data": {
      "text/plain": [
       "8"
      ]
     },
     "execution_count": 52,
     "metadata": {},
     "output_type": "execute_result"
    }
   ],
   "source": [
    "s5.pop()"
   ]
  },
  {
   "cell_type": "code",
   "execution_count": 53,
   "id": "fc14a1aa",
   "metadata": {},
   "outputs": [
    {
     "ename": "TypeError",
     "evalue": "'set' object is not subscriptable",
     "output_type": "error",
     "traceback": [
      "\u001b[0;31m---------------------------------------------------------------------------\u001b[0m",
      "\u001b[0;31mTypeError\u001b[0m                                 Traceback (most recent call last)",
      "Input \u001b[0;32mIn [53]\u001b[0m, in \u001b[0;36m<cell line: 1>\u001b[0;34m()\u001b[0m\n\u001b[0;32m----> 1\u001b[0m \u001b[43ms5\u001b[49m\u001b[43m[\u001b[49m\u001b[38;5;241;43m0\u001b[39;49m\u001b[43m]\u001b[49m\n",
      "\u001b[0;31mTypeError\u001b[0m: 'set' object is not subscriptable"
     ]
    }
   ],
   "source": [
    "s5[0]"
   ]
  },
  {
   "cell_type": "code",
   "execution_count": 55,
   "id": "1e19e9ef",
   "metadata": {},
   "outputs": [
    {
     "ename": "IndentationError",
     "evalue": "expected an indented block (286410274.py, line 3)",
     "output_type": "error",
     "traceback": [
      "\u001b[0;36m  Input \u001b[0;32mIn [55]\u001b[0;36m\u001b[0m\n\u001b[0;31m    print(a)\u001b[0m\n\u001b[0m    ^\u001b[0m\n\u001b[0;31mIndentationError\u001b[0m\u001b[0;31m:\u001b[0m expected an indented block\n"
     ]
    }
   ],
   "source": [
    "a = 23\n",
    "if a == 23:\n",
    "    print(a)"
   ]
  },
  {
   "cell_type": "code",
   "execution_count": 60,
   "id": "42167974",
   "metadata": {},
   "outputs": [
    {
     "name": "stdout",
     "output_type": "stream",
     "text": [
      "23\n"
     ]
    }
   ],
   "source": [
    "a = 23\n",
    "if a == 22:\n",
    "    pass\n",
    "else:\n",
    "    print(a)"
   ]
  },
  {
   "cell_type": "code",
   "execution_count": 61,
   "id": "dfc04aef",
   "metadata": {},
   "outputs": [
    {
     "data": {
      "text/plain": [
       "{(1, 2, 3, 4, 5), 8, 'Narayana'}"
      ]
     },
     "execution_count": 61,
     "metadata": {},
     "output_type": "execute_result"
    }
   ],
   "source": [
    "s3"
   ]
  },
  {
   "cell_type": "code",
   "execution_count": 63,
   "id": "c9673de4",
   "metadata": {},
   "outputs": [
    {
     "name": "stdout",
     "output_type": "stream",
     "text": [
      "Something\n"
     ]
    }
   ],
   "source": [
    "if 9 in s3:\n",
    "    print(s3)\n",
    "else:\n",
    "    print(\"Something\")"
   ]
  },
  {
   "cell_type": "code",
   "execution_count": 75,
   "id": "073624fd",
   "metadata": {},
   "outputs": [
    {
     "name": "stdout",
     "output_type": "stream",
     "text": [
      "5.88\n"
     ]
    }
   ],
   "source": [
    "a = float(input())"
   ]
  },
  {
   "cell_type": "code",
   "execution_count": 76,
   "id": "09a6b80a",
   "metadata": {},
   "outputs": [
    {
     "data": {
      "text/plain": [
       "float"
      ]
     },
     "execution_count": 76,
     "metadata": {},
     "output_type": "execute_result"
    }
   ],
   "source": [
    "type(a)"
   ]
  },
  {
   "cell_type": "code",
   "execution_count": 2,
   "id": "e770ff7c",
   "metadata": {},
   "outputs": [
    {
     "name": "stdout",
     "output_type": "stream",
     "text": [
      "Enter the Price600\n",
      "we can buy something else\n"
     ]
    }
   ],
   "source": [
    "price = int(input(\"Enter the Price\"))\n",
    "if price<500 and price>400:\n",
    "    print(\"we can buy a Tshirt\")\n",
    "elif price<400 and price>300 :\n",
    "        print(\"we can buy a shirt\")\n",
    "if price>500:\n",
    "    print(\"we can buy something else\")\n"
   ]
  },
  {
   "cell_type": "code",
   "execution_count": 9,
   "id": "44ab6432",
   "metadata": {},
   "outputs": [
    {
     "name": "stdout",
     "output_type": "stream",
     "text": [
      "enter the marks400\n",
      "Congratulations you got GRE\n"
     ]
    }
   ],
   "source": [
    "marks=int(input(\"enter the marks\"))\n",
    "if marks <600 and marks >500:\n",
    "    print(\"NO GRE\")\n",
    "elif marks <500 and marks >400:\n",
    "    print(\"TOfel\")\n",
    "    if marks <300 :\n",
    "        print(\"try something else\")\n",
    "else:\n",
    "    print(\"Congratulations you got GRE\")\n",
    "    "
   ]
  },
  {
   "cell_type": "code",
   "execution_count": 3,
   "id": "7ba16709",
   "metadata": {},
   "outputs": [
    {
     "name": "stdout",
     "output_type": "stream",
     "text": [
      "Enter marks400\n"
     ]
    }
   ],
   "source": [
    "marks=int(input(\"Enter marks\"))\n",
    "if marks>600:\n",
    "    print(\"GRE\")\n",
    "elif marks<600 and marks>500:\n",
    "    print(\"NO GRE\")\n",
    "elif marks<500 and marks>400:\n",
    "    print(\"TOFEL\")\n",
    "elif marks<400 and marks>300:\n",
    "    print (\"ILETS\")\n",
    "elif marks<300:\n",
    "    print(\"Try something else\")"
   ]
  },
  {
   "cell_type": "code",
   "execution_count": 2,
   "id": "99542eff",
   "metadata": {},
   "outputs": [
    {
     "name": "stdout",
     "output_type": "stream",
     "text": [
      "Enter marks: 400\n"
     ]
    }
   ],
   "source": [
    "marks = int(input(\"Enter marks: \"))\n",
    "if marks > 600:\n",
    "    print(\"GRE\")\n",
    "elif marks <600 and marks >500:\n",
    "    print(\"NO GRE\")\n",
    "elif marks <500 and marks >400:\n",
    "    print(\"TOFEL\")\n",
    "elif marks <400 and marks >300:\n",
    "    print(\"ICETS\")\n",
    "elif marks <300:\n",
    "    print(\"Try Something Else\")"
   ]
  },
  {
   "cell_type": "code",
   "execution_count": null,
   "id": "d2bbcf38",
   "metadata": {},
   "outputs": [
    {
     "name": "stdout",
     "output_type": "stream",
     "text": [
      "enter the marks550\n",
      "NOGRE\n"
     ]
    }
   ],
   "source": [
    "\n",
    "marks=int(input(\"enter the marks\"))\n",
    "if marks <600 and marks >500:\n",
    "    print(\"NOGRE\")\n",
    "elif marks <500 and marks >400:\n",
    "    print(\"TOETS\")\n",
    "if marks <300 :\n",
    "    print(\"try something else\")\n",
    "\n",
    "marks=int(input(\"enter the marks\"))\n",
    "\n",
    "if marks <600 and marks >500:\n",
    "    print(\"NOGRE\")\n",
    "elif marks <500 and marks >400:\n",
    "    \n",
    "    print(\"TLETS\")\n",
    "if marks <400 and marks >300 :\n",
    "    print(\"try something else\")\n",
    "else:\n",
    "        print(\"congratulations yu got gre\")"
   ]
  },
  {
   "cell_type": "code",
   "execution_count": 4,
   "id": "37112a39",
   "metadata": {},
   "outputs": [
    {
     "name": "stdout",
     "output_type": "stream",
     "text": [
      "Enter marks: 350\n",
      "ICETS\n"
     ]
    }
   ],
   "source": [
    "marks = int(input(\"Enter marks: \"))\n",
    "if marks > 600:\n",
    "    print(\"GRE\")\n",
    "elif marks <=600 and marks >500:\n",
    "    print(\"NO GRE\")\n",
    "elif marks <=500 and marks >400:\n",
    "    print(\"TOFEL\")\n",
    "elif marks <=400 and marks >300:\n",
    "    print(\"ILETS\")\n",
    "elif marks <=300:\n",
    "    print(\"Try Something Else\")"
   ]
  },
  {
   "cell_type": "markdown",
   "id": "c2650c55",
   "metadata": {},
   "source": [
    "##### 550"
   ]
  },
  {
   "cell_type": "code",
   "execution_count": 7,
   "id": "34ff3f8c",
   "metadata": {},
   "outputs": [
    {
     "name": "stdout",
     "output_type": "stream",
     "text": [
      "enter the marks560\n",
      "no gre\n"
     ]
    }
   ],
   "source": [
    "marks = int(input(\"enter the marks\")) \n",
    "if marks>600 : \n",
    "    print(\"gre\") \n",
    "elif marks<600 and marks>500 : \n",
    "    print(\"no gre\") \n",
    "elif marks<500 and marks>400 : \n",
    "    print(\"to fel\") \n",
    "elif marks<400 and marks>300 : \n",
    "    print(\"icets\") \n",
    "elif marks<300 : \n",
    "    print(\"try somthing eles\")"
   ]
  },
  {
   "cell_type": "code",
   "execution_count": null,
   "id": "9fd37f1b",
   "metadata": {},
   "outputs": [],
   "source": []
  }
 ],
 "metadata": {
  "kernelspec": {
   "display_name": "Python 3 (ipykernel)",
   "language": "python",
   "name": "python3"
  },
  "language_info": {
   "codemirror_mode": {
    "name": "ipython",
    "version": 3
   },
   "file_extension": ".py",
   "mimetype": "text/x-python",
   "name": "python",
   "nbconvert_exporter": "python",
   "pygments_lexer": "ipython3",
   "version": "3.9.12"
  }
 },
 "nbformat": 4,
 "nbformat_minor": 5
}
