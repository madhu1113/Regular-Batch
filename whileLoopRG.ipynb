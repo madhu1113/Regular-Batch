{
 "cells": [
  {
   "cell_type": "code",
   "execution_count": 1,
   "id": "6b0ad927",
   "metadata": {},
   "outputs": [
    {
     "name": "stdout",
     "output_type": "stream",
     "text": [
      "1\n",
      "2\n",
      "3\n",
      "4\n",
      "5\n",
      "6\n",
      "7\n",
      "8\n",
      "9\n",
      "10\n"
     ]
    }
   ],
   "source": [
    "a = 1\n",
    "b = 10\n",
    "while a<=b:\n",
    "    print(a)\n",
    "    a += 1"
   ]
  },
  {
   "cell_type": "code",
   "execution_count": 11,
   "id": "0c2da78a",
   "metadata": {},
   "outputs": [
    {
     "name": "stdout",
     "output_type": "stream",
     "text": [
      "3\n"
     ]
    }
   ],
   "source": [
    "c = 2\n",
    "c = c+1\n",
    "print(c)"
   ]
  },
  {
   "cell_type": "code",
   "execution_count": 12,
   "id": "64009f1b",
   "metadata": {},
   "outputs": [
    {
     "data": {
      "text/plain": [
       "3"
      ]
     },
     "execution_count": 12,
     "metadata": {},
     "output_type": "execute_result"
    }
   ],
   "source": [
    "c"
   ]
  },
  {
   "cell_type": "code",
   "execution_count": 13,
   "id": "8ab76728",
   "metadata": {},
   "outputs": [
    {
     "name": "stdout",
     "output_type": "stream",
     "text": [
      "6\n"
     ]
    }
   ],
   "source": [
    "c *= 2 # c = c*2\n",
    "print(c)"
   ]
  },
  {
   "cell_type": "code",
   "execution_count": 18,
   "id": "d43a1214",
   "metadata": {},
   "outputs": [
    {
     "name": "stdout",
     "output_type": "stream",
     "text": [
      "1\n",
      "2\n",
      "3\n",
      "4\n",
      "5\n"
     ]
    }
   ],
   "source": [
    "a = 1\n",
    "b = 10\n",
    "while a<=b:\n",
    "    print(a)\n",
    "    if a == 5:\n",
    "        break\n",
    "    a += 1\n",
    "else:\n",
    "    print(\"print the else block\")"
   ]
  },
  {
   "cell_type": "code",
   "execution_count": 1,
   "id": "28b589f8",
   "metadata": {},
   "outputs": [
    {
     "name": "stdout",
     "output_type": "stream",
     "text": [
      "1\n",
      "2\n",
      "3\n",
      "4\n",
      "5\n",
      "6\n",
      "7\n",
      "8\n",
      "9\n",
      "10\n",
      "print the else block\n"
     ]
    }
   ],
   "source": [
    "a = 1\n",
    "b = 10\n",
    "while a<=b:\n",
    "    print(a)\n",
    "    a += 1\n",
    "    if a == 5:\n",
    "        continue\n",
    "else:\n",
    "    print(\"print the else block\")"
   ]
  },
  {
   "cell_type": "code",
   "execution_count": 5,
   "id": "84a9f712",
   "metadata": {},
   "outputs": [
    {
     "data": {
      "text/plain": [
       "6"
      ]
     },
     "execution_count": 5,
     "metadata": {},
     "output_type": "execute_result"
    }
   ],
   "source": [
    "l = [2,3,4,5,6,7]\n",
    "len(l)"
   ]
  },
  {
   "cell_type": "code",
   "execution_count": 3,
   "id": "6da7c263",
   "metadata": {},
   "outputs": [
    {
     "name": "stdout",
     "output_type": "stream",
     "text": [
      "2\n",
      "3\n",
      "4\n",
      "5\n",
      "6\n",
      "7\n"
     ]
    }
   ],
   "source": [
    "for i in l:\n",
    "    print(i)"
   ]
  },
  {
   "cell_type": "code",
   "execution_count": 4,
   "id": "ac2a97b8",
   "metadata": {},
   "outputs": [
    {
     "name": "stdout",
     "output_type": "stream",
     "text": [
      "2\n",
      "3\n",
      "4\n",
      "5\n",
      "6\n",
      "7\n"
     ]
    }
   ],
   "source": [
    "i=0 \n",
    "while i<len(l): \n",
    "    print(l[i]) \n",
    "    i+=1"
   ]
  },
  {
   "cell_type": "code",
   "execution_count": 9,
   "id": "878cb050",
   "metadata": {},
   "outputs": [],
   "source": [
    "t = (6,2,3,4,6,7,8)"
   ]
  },
  {
   "cell_type": "code",
   "execution_count": 10,
   "id": "d998d9ea",
   "metadata": {},
   "outputs": [
    {
     "name": "stdout",
     "output_type": "stream",
     "text": [
      "index of 6 is:  0\n",
      "index of 6 is:  4\n",
      "index of 7 is:  5\n"
     ]
    }
   ],
   "source": [
    "a = 0\n",
    "while a<len(t):\n",
    "    if t[a] == 6 or t[a] == 7:\n",
    "        print(\"index of\", t[a],\"is: \",a)\n",
    "    a += 1\n"
   ]
  },
  {
   "cell_type": "code",
   "execution_count": 11,
   "id": "017ccb64",
   "metadata": {},
   "outputs": [
    {
     "name": "stdout",
     "output_type": "stream",
     "text": [
      "index of 7 is:  -2\n",
      "index of 6 is:  -3\n",
      "index of 6 is:  -7\n"
     ]
    }
   ],
   "source": [
    "a = -1\n",
    "while a < len(t):\n",
    "    if t[a] == 6 or t[a] == 7:\n",
    "        print(\"index of\", t[a],\"is: \",a)\n",
    "    if a == -len(t):\n",
    "        break\n",
    "    a -= 1"
   ]
  },
  {
   "cell_type": "code",
   "execution_count": null,
   "id": "ec1fe779",
   "metadata": {},
   "outputs": [],
   "source": []
  }
 ],
 "metadata": {
  "kernelspec": {
   "display_name": "Python 3 (ipykernel)",
   "language": "python",
   "name": "python3"
  },
  "language_info": {
   "codemirror_mode": {
    "name": "ipython",
    "version": 3
   },
   "file_extension": ".py",
   "mimetype": "text/x-python",
   "name": "python",
   "nbconvert_exporter": "python",
   "pygments_lexer": "ipython3",
   "version": "3.9.12"
  }
 },
 "nbformat": 4,
 "nbformat_minor": 5
}
