{
 "cells": [
  {
   "cell_type": "raw",
   "id": "7950a4ca",
   "metadata": {},
   "source": [
    "Enter the no.: 3   \n",
    "   enter the name: name\n",
    "            name\n",
    "       name name name\n",
    "  name name name name name\n",
    "       name name name\n",
    "            name"
   ]
  },
  {
   "cell_type": "raw",
   "id": "2cb0965c",
   "metadata": {},
   "source": [
    "         Madhu\n",
    "    Madhu    Madhu\n",
    "Madhu    Madhu    Madhu\n",
    "    Madhu     Madhu\n",
    "         Madhu\n"
   ]
  },
  {
   "cell_type": "code",
   "execution_count": 11,
   "id": "c0bc86c7",
   "metadata": {},
   "outputs": [
    {
     "name": "stdout",
     "output_type": "stream",
     "text": [
      "Enter the no.: 8\n",
      "Enter the name: *\n",
      "              *   \n",
      "            *   *   \n",
      "          *   *   *   \n",
      "        *   *   *   *   \n",
      "      *   *   *   *   *   \n",
      "    *   *   *   *   *   *   \n",
      "  *   *   *   *   *   *   *   \n",
      "*   *   *   *   *   *   *   *   \n",
      "  *   *   *   *   *   *   *   \n",
      "    *   *   *   *   *   *   \n",
      "      *   *   *   *   *   \n",
      "        *   *   *   *   \n",
      "          *   *   *   \n",
      "            *   *   \n",
      "              *   \n"
     ]
    }
   ],
   "source": [
    "n = int(input(\"Enter the no.: \"))\n",
    "name = input(\"Enter the name: \")\n",
    "for i in range(n):\n",
    "    for j in range(n-i-1):\n",
    "        print(\" \"*len(name),end = \" \")\n",
    "    for j in range(i+1):\n",
    "        print(name, \" \"*len(name), end = \" \")\n",
    "    print()\n",
    "for i in range(n-1):\n",
    "    for j in range(i+1):\n",
    "        print(\" \"*len(name), end = \" \")\n",
    "    for j in range(n-i-1):\n",
    "        print(name,\" \"*len(name), end = \" \")    \n",
    "    print()\n",
    "    \n"
   ]
  },
  {
   "cell_type": "code",
   "execution_count": 2,
   "id": "2522c9bc",
   "metadata": {},
   "outputs": [
    {
     "name": "stdout",
     "output_type": "stream",
     "text": [
      "Enter the no.: 5\n",
      "Enter the name: Madhu\n",
      "Madhu \n",
      "Madhu Madhu \n",
      "Madhu Madhu Madhu \n",
      "Madhu Madhu Madhu Madhu \n",
      "Madhu Madhu Madhu Madhu Madhu \n"
     ]
    }
   ],
   "source": [
    "n = int(input(\"Enter the no.: \"))\n",
    "name = input(\"Enter the name: \")\n",
    "for i in range(n):\n",
    "    for j in range(i+1):\n",
    "        print(name, end = \" \")\n",
    "    print()"
   ]
  },
  {
   "cell_type": "code",
   "execution_count": null,
   "id": "7d8ab940",
   "metadata": {},
   "outputs": [],
   "source": []
  }
 ],
 "metadata": {
  "kernelspec": {
   "display_name": "Python 3 (ipykernel)",
   "language": "python",
   "name": "python3"
  },
  "language_info": {
   "codemirror_mode": {
    "name": "ipython",
    "version": 3
   },
   "file_extension": ".py",
   "mimetype": "text/x-python",
   "name": "python",
   "nbconvert_exporter": "python",
   "pygments_lexer": "ipython3",
   "version": "3.9.12"
  }
 },
 "nbformat": 4,
 "nbformat_minor": 5
}
