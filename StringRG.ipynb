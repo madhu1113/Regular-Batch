{
 "cells": [
  {
   "cell_type": "code",
   "execution_count": 1,
   "id": "a4ff0d5c",
   "metadata": {},
   "outputs": [],
   "source": [
    "s = \"Jashwanth\""
   ]
  },
  {
   "cell_type": "code",
   "execution_count": 2,
   "id": "c4d72c57",
   "metadata": {},
   "outputs": [
    {
     "data": {
      "text/plain": [
       "'Jashwanth'"
      ]
     },
     "execution_count": 2,
     "metadata": {},
     "output_type": "execute_result"
    }
   ],
   "source": [
    "s"
   ]
  },
  {
   "cell_type": "code",
   "execution_count": 3,
   "id": "293e9e7b",
   "metadata": {},
   "outputs": [
    {
     "ename": "TypeError",
     "evalue": "can only concatenate str (not \"int\") to str",
     "output_type": "error",
     "traceback": [
      "\u001b[0;31m---------------------------------------------------------------------------\u001b[0m",
      "\u001b[0;31mTypeError\u001b[0m                                 Traceback (most recent call last)",
      "Input \u001b[0;32mIn [3]\u001b[0m, in \u001b[0;36m<cell line: 1>\u001b[0;34m()\u001b[0m\n\u001b[0;32m----> 1\u001b[0m \u001b[43ms\u001b[49m\u001b[38;5;241;43m+\u001b[39;49m\u001b[38;5;241;43m1\u001b[39;49m\n",
      "\u001b[0;31mTypeError\u001b[0m: can only concatenate str (not \"int\") to str"
     ]
    }
   ],
   "source": [
    "s+1"
   ]
  },
  {
   "cell_type": "code",
   "execution_count": 4,
   "id": "5048c6ca",
   "metadata": {},
   "outputs": [
    {
     "data": {
      "text/plain": [
       "'Jashwanth1'"
      ]
     },
     "execution_count": 4,
     "metadata": {},
     "output_type": "execute_result"
    }
   ],
   "source": [
    "s+\"1\""
   ]
  },
  {
   "cell_type": "code",
   "execution_count": 5,
   "id": "4a4c7dcd",
   "metadata": {},
   "outputs": [
    {
     "data": {
      "text/plain": [
       "'JashwanthK'"
      ]
     },
     "execution_count": 5,
     "metadata": {},
     "output_type": "execute_result"
    }
   ],
   "source": [
    "s+\"K\""
   ]
  },
  {
   "cell_type": "code",
   "execution_count": 6,
   "id": "b32eb9aa",
   "metadata": {},
   "outputs": [
    {
     "data": {
      "text/plain": [
       "'Jashwanthk'"
      ]
     },
     "execution_count": 6,
     "metadata": {},
     "output_type": "execute_result"
    }
   ],
   "source": [
    "s+\"k\""
   ]
  },
  {
   "cell_type": "code",
   "execution_count": 7,
   "id": "019c5f81",
   "metadata": {},
   "outputs": [
    {
     "data": {
      "text/plain": [
       "'JashwanthJashwanth'"
      ]
     },
     "execution_count": 7,
     "metadata": {},
     "output_type": "execute_result"
    }
   ],
   "source": [
    "s*2"
   ]
  },
  {
   "cell_type": "code",
   "execution_count": 8,
   "id": "b414b93f",
   "metadata": {},
   "outputs": [
    {
     "data": {
      "text/plain": [
       "'JashwanthJashwanthJashwanthJashwanth'"
      ]
     },
     "execution_count": 8,
     "metadata": {},
     "output_type": "execute_result"
    }
   ],
   "source": [
    "s*4"
   ]
  },
  {
   "cell_type": "code",
   "execution_count": 9,
   "id": "ab768129",
   "metadata": {},
   "outputs": [
    {
     "data": {
      "text/plain": [
       "'JashwanthJashwanth'"
      ]
     },
     "execution_count": 9,
     "metadata": {},
     "output_type": "execute_result"
    }
   ],
   "source": [
    "s+s"
   ]
  },
  {
   "cell_type": "code",
   "execution_count": 10,
   "id": "4b947b8f",
   "metadata": {},
   "outputs": [
    {
     "data": {
      "text/plain": [
       "'Jashwanth1'"
      ]
     },
     "execution_count": 10,
     "metadata": {},
     "output_type": "execute_result"
    }
   ],
   "source": [
    "s+str(1)"
   ]
  },
  {
   "cell_type": "code",
   "execution_count": 11,
   "id": "f41d225c",
   "metadata": {},
   "outputs": [
    {
     "data": {
      "text/plain": [
       "'Jashwanth'"
      ]
     },
     "execution_count": 11,
     "metadata": {},
     "output_type": "execute_result"
    }
   ],
   "source": [
    "s\n"
   ]
  },
  {
   "cell_type": "code",
   "execution_count": 12,
   "id": "a4937768",
   "metadata": {},
   "outputs": [
    {
     "data": {
      "text/plain": [
       "'n'"
      ]
     },
     "execution_count": 12,
     "metadata": {},
     "output_type": "execute_result"
    }
   ],
   "source": [
    "s[6]"
   ]
  },
  {
   "cell_type": "code",
   "execution_count": 13,
   "id": "e84ad5b4",
   "metadata": {},
   "outputs": [
    {
     "ename": "IndexError",
     "evalue": "string index out of range",
     "output_type": "error",
     "traceback": [
      "\u001b[0;31m---------------------------------------------------------------------------\u001b[0m",
      "\u001b[0;31mIndexError\u001b[0m                                Traceback (most recent call last)",
      "Input \u001b[0;32mIn [13]\u001b[0m, in \u001b[0;36m<cell line: 1>\u001b[0;34m()\u001b[0m\n\u001b[0;32m----> 1\u001b[0m \u001b[43ms\u001b[49m\u001b[43m[\u001b[49m\u001b[38;5;241;43m10\u001b[39;49m\u001b[43m]\u001b[49m\n",
      "\u001b[0;31mIndexError\u001b[0m: string index out of range"
     ]
    }
   ],
   "source": [
    "s[10]"
   ]
  },
  {
   "cell_type": "code",
   "execution_count": 14,
   "id": "e3d7680c",
   "metadata": {},
   "outputs": [
    {
     "data": {
      "text/plain": [
       "'w'"
      ]
     },
     "execution_count": 14,
     "metadata": {},
     "output_type": "execute_result"
    }
   ],
   "source": [
    "s[-5]"
   ]
  },
  {
   "cell_type": "code",
   "execution_count": 15,
   "id": "049b3012",
   "metadata": {},
   "outputs": [
    {
     "data": {
      "text/plain": [
       "'h'"
      ]
     },
     "execution_count": 15,
     "metadata": {},
     "output_type": "execute_result"
    }
   ],
   "source": [
    "s[-6]"
   ]
  },
  {
   "cell_type": "code",
   "execution_count": 16,
   "id": "191539dd",
   "metadata": {},
   "outputs": [
    {
     "ename": "IndexError",
     "evalue": "string index out of range",
     "output_type": "error",
     "traceback": [
      "\u001b[0;31m---------------------------------------------------------------------------\u001b[0m",
      "\u001b[0;31mIndexError\u001b[0m                                Traceback (most recent call last)",
      "Input \u001b[0;32mIn [16]\u001b[0m, in \u001b[0;36m<cell line: 1>\u001b[0;34m()\u001b[0m\n\u001b[0;32m----> 1\u001b[0m \u001b[43ms\u001b[49m\u001b[43m[\u001b[49m\u001b[38;5;241;43m-\u001b[39;49m\u001b[38;5;241;43m10\u001b[39;49m\u001b[43m]\u001b[49m\n",
      "\u001b[0;31mIndexError\u001b[0m: string index out of range"
     ]
    }
   ],
   "source": [
    "s[-10]"
   ]
  },
  {
   "cell_type": "code",
   "execution_count": 17,
   "id": "6e5a9ab5",
   "metadata": {},
   "outputs": [
    {
     "data": {
      "text/plain": [
       "'Jashw'"
      ]
     },
     "execution_count": 17,
     "metadata": {},
     "output_type": "execute_result"
    }
   ],
   "source": [
    "s[0:5]\n"
   ]
  },
  {
   "cell_type": "code",
   "execution_count": 18,
   "id": "b50a9f7e",
   "metadata": {},
   "outputs": [
    {
     "data": {
      "text/plain": [
       "'ashwan'"
      ]
     },
     "execution_count": 18,
     "metadata": {},
     "output_type": "execute_result"
    }
   ],
   "source": [
    "s[1:-2]\n"
   ]
  },
  {
   "cell_type": "code",
   "execution_count": 19,
   "id": "563ffb39",
   "metadata": {},
   "outputs": [
    {
     "data": {
      "text/plain": [
       "'want'"
      ]
     },
     "execution_count": 19,
     "metadata": {},
     "output_type": "execute_result"
    }
   ],
   "source": [
    "s[-5:-1]\n",
    "\n"
   ]
  },
  {
   "cell_type": "code",
   "execution_count": 20,
   "id": "d171f286",
   "metadata": {},
   "outputs": [
    {
     "data": {
      "text/plain": [
       "'Jashwanth'"
      ]
     },
     "execution_count": 20,
     "metadata": {},
     "output_type": "execute_result"
    }
   ],
   "source": [
    "s"
   ]
  },
  {
   "cell_type": "code",
   "execution_count": 21,
   "id": "0fcadceb",
   "metadata": {},
   "outputs": [
    {
     "data": {
      "text/plain": [
       "['J', 'shw', 'nth']"
      ]
     },
     "execution_count": 21,
     "metadata": {},
     "output_type": "execute_result"
    }
   ],
   "source": [
    "s.split(\"a\")"
   ]
  },
  {
   "cell_type": "code",
   "execution_count": null,
   "id": "bda96d63",
   "metadata": {},
   "outputs": [],
   "source": []
  }
 ],
 "metadata": {
  "kernelspec": {
   "display_name": "Python 3 (ipykernel)",
   "language": "python",
   "name": "python3"
  },
  "language_info": {
   "codemirror_mode": {
    "name": "ipython",
    "version": 3
   },
   "file_extension": ".py",
   "mimetype": "text/x-python",
   "name": "python",
   "nbconvert_exporter": "python",
   "pygments_lexer": "ipython3",
   "version": "3.9.12"
  }
 },
 "nbformat": 4,
 "nbformat_minor": 5
}
