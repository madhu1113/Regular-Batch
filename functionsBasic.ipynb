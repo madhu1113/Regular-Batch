{
 "cells": [
  {
   "cell_type": "code",
   "execution_count": 2,
   "id": "5c9bc7bd",
   "metadata": {},
   "outputs": [],
   "source": [
    "def add():\n",
    "    print(\"This is our first function \")"
   ]
  },
  {
   "cell_type": "code",
   "execution_count": 3,
   "id": "5032d0ef",
   "metadata": {},
   "outputs": [],
   "source": [
    "a = 3"
   ]
  },
  {
   "cell_type": "code",
   "execution_count": 4,
   "id": "68a4ad60",
   "metadata": {},
   "outputs": [
    {
     "data": {
      "text/plain": [
       "3"
      ]
     },
     "execution_count": 4,
     "metadata": {},
     "output_type": "execute_result"
    }
   ],
   "source": [
    "a"
   ]
  },
  {
   "cell_type": "code",
   "execution_count": 5,
   "id": "9e267db9",
   "metadata": {},
   "outputs": [
    {
     "name": "stdout",
     "output_type": "stream",
     "text": [
      "This is our first function\n"
     ]
    }
   ],
   "source": [
    "add()"
   ]
  },
  {
   "cell_type": "code",
   "execution_count": 6,
   "id": "c527f79f",
   "metadata": {},
   "outputs": [
    {
     "name": "stdout",
     "output_type": "stream",
     "text": [
      "This is our first function\n"
     ]
    },
    {
     "ename": "TypeError",
     "evalue": "unsupported operand type(s) for +: 'NoneType' and 'str'",
     "output_type": "error",
     "traceback": [
      "\u001b[0;31m---------------------------------------------------------------------------\u001b[0m",
      "\u001b[0;31mTypeError\u001b[0m                                 Traceback (most recent call last)",
      "Input \u001b[0;32mIn [6]\u001b[0m, in \u001b[0;36m<cell line: 1>\u001b[0;34m()\u001b[0m\n\u001b[0;32m----> 1\u001b[0m \u001b[43madd\u001b[49m\u001b[43m(\u001b[49m\u001b[43m)\u001b[49m\u001b[38;5;241;43m+\u001b[39;49m\u001b[38;5;124;43m\"\u001b[39;49m\u001b[38;5;124;43mSohail\u001b[39;49m\u001b[38;5;124;43m\"\u001b[39;49m\n",
      "\u001b[0;31mTypeError\u001b[0m: unsupported operand type(s) for +: 'NoneType' and 'str'"
     ]
    }
   ],
   "source": [
    "add()+\"Sohail\""
   ]
  },
  {
   "cell_type": "code",
   "execution_count": 7,
   "id": "8859e46a",
   "metadata": {},
   "outputs": [
    {
     "name": "stdout",
     "output_type": "stream",
     "text": [
      "This is our first function\n"
     ]
    },
    {
     "data": {
      "text/plain": [
       "NoneType"
      ]
     },
     "execution_count": 7,
     "metadata": {},
     "output_type": "execute_result"
    }
   ],
   "source": [
    "type(add())"
   ]
  },
  {
   "cell_type": "code",
   "execution_count": 8,
   "id": "5c9a3e77",
   "metadata": {},
   "outputs": [
    {
     "name": "stdout",
     "output_type": "stream",
     "text": [
      "\n"
     ]
    },
    {
     "data": {
      "text/plain": [
       "NoneType"
      ]
     },
     "execution_count": 8,
     "metadata": {},
     "output_type": "execute_result"
    }
   ],
   "source": [
    "type(print())"
   ]
  },
  {
   "cell_type": "code",
   "execution_count": 9,
   "id": "50704319",
   "metadata": {},
   "outputs": [],
   "source": [
    "def add():\n",
    "    return \"This is our first function \""
   ]
  },
  {
   "cell_type": "code",
   "execution_count": 10,
   "id": "6e03814b",
   "metadata": {},
   "outputs": [
    {
     "data": {
      "text/plain": [
       "'This is our first function '"
      ]
     },
     "execution_count": 10,
     "metadata": {},
     "output_type": "execute_result"
    }
   ],
   "source": [
    "add()"
   ]
  },
  {
   "cell_type": "code",
   "execution_count": 11,
   "id": "393aa35c",
   "metadata": {},
   "outputs": [
    {
     "data": {
      "text/plain": [
       "'This is our first function Sohail'"
      ]
     },
     "execution_count": 11,
     "metadata": {},
     "output_type": "execute_result"
    }
   ],
   "source": [
    "add()+\"Sohail\""
   ]
  },
  {
   "cell_type": "code",
   "execution_count": 12,
   "id": "94f7ba71",
   "metadata": {},
   "outputs": [
    {
     "data": {
      "text/plain": [
       "str"
      ]
     },
     "execution_count": 12,
     "metadata": {},
     "output_type": "execute_result"
    }
   ],
   "source": [
    "type(add())"
   ]
  },
  {
   "cell_type": "code",
   "execution_count": 15,
   "id": "603ba8c6",
   "metadata": {},
   "outputs": [],
   "source": [
    "def test():\n",
    "    pass"
   ]
  },
  {
   "cell_type": "code",
   "execution_count": 1,
   "id": "7521e6e5",
   "metadata": {},
   "outputs": [
    {
     "name": "stdout",
     "output_type": "stream",
     "text": [
      "1\n",
      "2\n",
      "3\n",
      "4\n",
      "5\n",
      "6\n",
      "7\n",
      "8\n",
      "9\n"
     ]
    }
   ],
   "source": [
    "\n",
    "a= 1\n",
    "b = 10\n",
    "while a<b:\n",
    "    print(a)   \n",
    "    a += 1"
   ]
  },
  {
   "cell_type": "code",
   "execution_count": 2,
   "id": "b1e29a5e",
   "metadata": {},
   "outputs": [],
   "source": [
    "def test1():\n",
    "    a= 1\n",
    "    b = 10\n",
    "    while a<=b:\n",
    "        print(a)   \n",
    "        a += 1"
   ]
  },
  {
   "cell_type": "code",
   "execution_count": 3,
   "id": "169466ae",
   "metadata": {},
   "outputs": [
    {
     "name": "stdout",
     "output_type": "stream",
     "text": [
      "1\n",
      "2\n",
      "3\n",
      "4\n",
      "5\n",
      "6\n",
      "7\n",
      "8\n",
      "9\n"
     ]
    }
   ],
   "source": [
    "test1()"
   ]
  },
  {
   "cell_type": "code",
   "execution_count": 4,
   "id": "a7312ca8",
   "metadata": {},
   "outputs": [],
   "source": [
    "def test1(a,b):\n",
    "    while a<=b:\n",
    "        print(a)   \n",
    "        a += 1"
   ]
  },
  {
   "cell_type": "code",
   "execution_count": 5,
   "id": "b3edcdfb",
   "metadata": {},
   "outputs": [
    {
     "name": "stdout",
     "output_type": "stream",
     "text": [
      "2\n",
      "3\n",
      "4\n",
      "5\n",
      "6\n",
      "7\n",
      "8\n",
      "9\n",
      "10\n",
      "11\n",
      "12\n",
      "13\n",
      "14\n",
      "15\n",
      "16\n",
      "17\n",
      "18\n",
      "19\n",
      "20\n"
     ]
    }
   ],
   "source": [
    "test1(2,20)"
   ]
  },
  {
   "cell_type": "code",
   "execution_count": 7,
   "id": "f7d58824",
   "metadata": {},
   "outputs": [
    {
     "name": "stdout",
     "output_type": "stream",
     "text": [
      "5\n",
      "6\n",
      "7\n",
      "8\n",
      "9\n",
      "10\n"
     ]
    }
   ],
   "source": [
    "test1(5,10)"
   ]
  },
  {
   "cell_type": "code",
   "execution_count": 8,
   "id": "255d0e55",
   "metadata": {},
   "outputs": [],
   "source": [
    "def test2(a,b,c,d):\n",
    "    return a,b,c,d"
   ]
  },
  {
   "cell_type": "code",
   "execution_count": 11,
   "id": "42dd7203",
   "metadata": {},
   "outputs": [
    {
     "ename": "TypeError",
     "evalue": "test2() takes 4 positional arguments but 7 were given",
     "output_type": "error",
     "traceback": [
      "\u001b[0;31m---------------------------------------------------------------------------\u001b[0m",
      "\u001b[0;31mTypeError\u001b[0m                                 Traceback (most recent call last)",
      "Input \u001b[0;32mIn [11]\u001b[0m, in \u001b[0;36m<cell line: 1>\u001b[0;34m()\u001b[0m\n\u001b[0;32m----> 1\u001b[0m \u001b[43mtest2\u001b[49m\u001b[43m(\u001b[49m\u001b[38;5;241;43m3\u001b[39;49m\u001b[43m,\u001b[49m\u001b[38;5;241;43m4\u001b[39;49m\u001b[43m,\u001b[49m\u001b[38;5;241;43m5\u001b[39;49m\u001b[43m,\u001b[49m\u001b[38;5;241;43m6\u001b[39;49m\u001b[43m,\u001b[49m\u001b[38;5;241;43m7\u001b[39;49m\u001b[43m,\u001b[49m\u001b[38;5;241;43m78\u001b[39;49m\u001b[43m,\u001b[49m\u001b[38;5;241;43m90\u001b[39;49m\u001b[43m)\u001b[49m\n",
      "\u001b[0;31mTypeError\u001b[0m: test2() takes 4 positional arguments but 7 were given"
     ]
    }
   ],
   "source": [
    "test2(3,4,5,6,7,78,90)"
   ]
  },
  {
   "cell_type": "code",
   "execution_count": 14,
   "id": "f705f136",
   "metadata": {},
   "outputs": [],
   "source": [
    "def test3(*a):\n",
    "    return a"
   ]
  },
  {
   "cell_type": "code",
   "execution_count": 16,
   "id": "24113e07",
   "metadata": {},
   "outputs": [
    {
     "data": {
      "text/plain": [
       "(3, 4, 5, 6, 7, 78, 90, 345, 5467, 4457, 457547, 4567)"
      ]
     },
     "execution_count": 16,
     "metadata": {},
     "output_type": "execute_result"
    }
   ],
   "source": [
    "test3(3,4,5,6,7,78,90,345,5467,4457,457547,4567)"
   ]
  },
  {
   "cell_type": "code",
   "execution_count": 18,
   "id": "5ad5093e",
   "metadata": {},
   "outputs": [],
   "source": [
    "def test4(*a,b,c,d,e):\n",
    "    return a,b,c,d,e"
   ]
  },
  {
   "cell_type": "code",
   "execution_count": 20,
   "id": "12275407",
   "metadata": {},
   "outputs": [
    {
     "data": {
      "text/plain": [
       "((3, 4, 5, 6, 7, 78, 90, 345), 5467, 4457, 457547, 4567)"
      ]
     },
     "execution_count": 20,
     "metadata": {},
     "output_type": "execute_result"
    }
   ],
   "source": [
    "test4(3,4,5,6,7,78,90,345,b = 5467,c = 4457,d = 457547,e = 4567)"
   ]
  },
  {
   "cell_type": "code",
   "execution_count": 24,
   "id": "2516998f",
   "metadata": {},
   "outputs": [],
   "source": [
    "def test4(b,c,d,e,*a):\n",
    "    return b,c,d,e,a"
   ]
  },
  {
   "cell_type": "code",
   "execution_count": 25,
   "id": "46e4cd5c",
   "metadata": {},
   "outputs": [
    {
     "data": {
      "text/plain": [
       "(3, 4, 5, 6, (7, 78, 90, 345, 5467, 4457, 457547, 4567))"
      ]
     },
     "execution_count": 25,
     "metadata": {},
     "output_type": "execute_result"
    }
   ],
   "source": [
    "test4(3,4,5,6,7,78,90,345,5467,4457,457547,4567)"
   ]
  },
  {
   "cell_type": "code",
   "execution_count": 26,
   "id": "244d270a",
   "metadata": {},
   "outputs": [
    {
     "ename": "SyntaxError",
     "evalue": "invalid syntax (2792531724.py, line 1)",
     "output_type": "error",
     "traceback": [
      "\u001b[0;36m  Input \u001b[0;32mIn [26]\u001b[0;36m\u001b[0m\n\u001b[0;31m    def test4(*b,c,d,e,*a):\u001b[0m\n\u001b[0m                       ^\u001b[0m\n\u001b[0;31mSyntaxError\u001b[0m\u001b[0;31m:\u001b[0m invalid syntax\n"
     ]
    }
   ],
   "source": [
    "def test4(*b,c,d,e,*a):\n",
    "    return a,b,c,d,e,a"
   ]
  },
  {
   "cell_type": "code",
   "execution_count": 29,
   "id": "76156f5d",
   "metadata": {},
   "outputs": [],
   "source": [
    "def add():\n",
    "    '''this function returns string'''\n",
    "    return \"This is our first function \""
   ]
  },
  {
   "cell_type": "code",
   "execution_count": 28,
   "id": "cefc43ee",
   "metadata": {},
   "outputs": [
    {
     "data": {
      "text/plain": [
       "'This is our first function '"
      ]
     },
     "execution_count": 28,
     "metadata": {},
     "output_type": "execute_result"
    }
   ],
   "source": [
    "add()"
   ]
  },
  {
   "cell_type": "code",
   "execution_count": 30,
   "id": "76fa62fc",
   "metadata": {},
   "outputs": [],
   "source": [
    "def test3(**a):\n",
    "    print(a)"
   ]
  },
  {
   "cell_type": "code",
   "execution_count": 31,
   "id": "6b41db16",
   "metadata": {},
   "outputs": [
    {
     "name": "stdout",
     "output_type": "stream",
     "text": [
      "{'a': 3, 'b': 8, 'c': 78, 'd': 'madhu'}\n"
     ]
    }
   ],
   "source": [
    "test3(a = 3, b = 8, c = 78, d = \"madhu\")"
   ]
  },
  {
   "cell_type": "code",
   "execution_count": null,
   "id": "2899e1ed",
   "metadata": {},
   "outputs": [],
   "source": [
    "t = (2,3,4,5,\"sohail\")"
   ]
  }
 ],
 "metadata": {
  "kernelspec": {
   "display_name": "Python 3 (ipykernel)",
   "language": "python",
   "name": "python3"
  },
  "language_info": {
   "codemirror_mode": {
    "name": "ipython",
    "version": 3
   },
   "file_extension": ".py",
   "mimetype": "text/x-python",
   "name": "python",
   "nbconvert_exporter": "python",
   "pygments_lexer": "ipython3",
   "version": "3.9.12"
  }
 },
 "nbformat": 4,
 "nbformat_minor": 5
}
