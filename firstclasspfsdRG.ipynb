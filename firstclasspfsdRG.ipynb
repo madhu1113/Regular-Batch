{
 "cells": [
  {
   "cell_type": "code",
   "execution_count": 7,
   "id": "900c6d47",
   "metadata": {},
   "outputs": [],
   "source": [
    "name = \"Ganesh\"\n",
    "\n"
   ]
  },
  {
   "cell_type": "code",
   "execution_count": 8,
   "id": "517a3e75",
   "metadata": {},
   "outputs": [
    {
     "data": {
      "text/plain": [
       "'Ganesh'"
      ]
     },
     "execution_count": 8,
     "metadata": {},
     "output_type": "execute_result"
    }
   ],
   "source": [
    "name"
   ]
  },
  {
   "cell_type": "markdown",
   "id": "c3dbccf5",
   "metadata": {},
   "source": [
    "True-True"
   ]
  },
  {
   "cell_type": "code",
   "execution_count": 9,
   "id": "60e171dc",
   "metadata": {},
   "outputs": [
    {
     "data": {
      "text/plain": [
       "0"
      ]
     },
     "execution_count": 9,
     "metadata": {},
     "output_type": "execute_result"
    }
   ],
   "source": [
    "True-True"
   ]
  },
  {
   "cell_type": "code",
   "execution_count": 10,
   "id": "82ebaa1d",
   "metadata": {},
   "outputs": [
    {
     "data": {
      "text/plain": [
       "1"
      ]
     },
     "execution_count": 10,
     "metadata": {},
     "output_type": "execute_result"
    }
   ],
   "source": [
    "True-False"
   ]
  },
  {
   "cell_type": "code",
   "execution_count": 11,
   "id": "6babc6f8",
   "metadata": {},
   "outputs": [
    {
     "ename": "ZeroDivisionError",
     "evalue": "division by zero",
     "output_type": "error",
     "traceback": [
      "\u001b[0;31m---------------------------------------------------------------------------\u001b[0m",
      "\u001b[0;31mZeroDivisionError\u001b[0m                         Traceback (most recent call last)",
      "Input \u001b[0;32mIn [11]\u001b[0m, in \u001b[0;36m<cell line: 1>\u001b[0;34m()\u001b[0m\n\u001b[0;32m----> 1\u001b[0m \u001b[38;5;28;43;01mTrue\u001b[39;49;00m\u001b[38;5;241;43m/\u001b[39;49m\u001b[38;5;28;43;01mFalse\u001b[39;49;00m\n",
      "\u001b[0;31mZeroDivisionError\u001b[0m: division by zero"
     ]
    }
   ],
   "source": [
    "True/False"
   ]
  },
  {
   "cell_type": "code",
   "execution_count": 12,
   "id": "ac45fbcd",
   "metadata": {},
   "outputs": [
    {
     "ename": "NameError",
     "evalue": "name 'true' is not defined",
     "output_type": "error",
     "traceback": [
      "\u001b[0;31m---------------------------------------------------------------------------\u001b[0m",
      "\u001b[0;31mNameError\u001b[0m                                 Traceback (most recent call last)",
      "Input \u001b[0;32mIn [12]\u001b[0m, in \u001b[0;36m<cell line: 1>\u001b[0;34m()\u001b[0m\n\u001b[0;32m----> 1\u001b[0m \u001b[43mtrue\u001b[49m\u001b[38;5;241m-\u001b[39mfalse\n",
      "\u001b[0;31mNameError\u001b[0m: name 'true' is not defined"
     ]
    }
   ],
   "source": [
    "true-false"
   ]
  },
  {
   "cell_type": "code",
   "execution_count": 13,
   "id": "796a004e",
   "metadata": {},
   "outputs": [],
   "source": [
    "a = 6"
   ]
  },
  {
   "cell_type": "code",
   "execution_count": 14,
   "id": "d01d6f41",
   "metadata": {},
   "outputs": [
    {
     "data": {
      "text/plain": [
       "6"
      ]
     },
     "execution_count": 14,
     "metadata": {},
     "output_type": "execute_result"
    }
   ],
   "source": [
    "a"
   ]
  },
  {
   "cell_type": "code",
   "execution_count": 15,
   "id": "843a8741",
   "metadata": {},
   "outputs": [
    {
     "data": {
      "text/plain": [
       "int"
      ]
     },
     "execution_count": 15,
     "metadata": {},
     "output_type": "execute_result"
    }
   ],
   "source": [
    "type(a)"
   ]
  },
  {
   "cell_type": "code",
   "execution_count": 16,
   "id": "28e8747d",
   "metadata": {},
   "outputs": [],
   "source": [
    "str = \"Shirisha\""
   ]
  },
  {
   "cell_type": "code",
   "execution_count": 18,
   "id": "38185a9d",
   "metadata": {},
   "outputs": [
    {
     "data": {
      "text/plain": [
       "str"
      ]
     },
     "execution_count": 18,
     "metadata": {},
     "output_type": "execute_result"
    }
   ],
   "source": [
    "type(str)"
   ]
  },
  {
   "cell_type": "code",
   "execution_count": 19,
   "id": "d9e41afa",
   "metadata": {},
   "outputs": [],
   "source": [
    " b = 7.89"
   ]
  },
  {
   "cell_type": "code",
   "execution_count": 20,
   "id": "e65ed8bd",
   "metadata": {},
   "outputs": [
    {
     "data": {
      "text/plain": [
       "float"
      ]
     },
     "execution_count": 20,
     "metadata": {},
     "output_type": "execute_result"
    }
   ],
   "source": [
    "type(b)"
   ]
  },
  {
   "cell_type": "code",
   "execution_count": 21,
   "id": "3144110a",
   "metadata": {},
   "outputs": [],
   "source": [
    "n = 6+7j"
   ]
  },
  {
   "cell_type": "code",
   "execution_count": 22,
   "id": "24d3fa72",
   "metadata": {},
   "outputs": [
    {
     "data": {
      "text/plain": [
       "complex"
      ]
     },
     "execution_count": 22,
     "metadata": {},
     "output_type": "execute_result"
    }
   ],
   "source": [
    "type(n)"
   ]
  },
  {
   "cell_type": "code",
   "execution_count": 23,
   "id": "d40ae435",
   "metadata": {},
   "outputs": [
    {
     "data": {
      "text/plain": [
       "(12+14j)"
      ]
     },
     "execution_count": 23,
     "metadata": {},
     "output_type": "execute_result"
    }
   ],
   "source": [
    "n+n"
   ]
  },
  {
   "cell_type": "code",
   "execution_count": 24,
   "id": "b1250b89",
   "metadata": {},
   "outputs": [
    {
     "data": {
      "text/plain": [
       "(-13+84j)"
      ]
     },
     "execution_count": 24,
     "metadata": {},
     "output_type": "execute_result"
    }
   ],
   "source": [
    "n*n"
   ]
  },
  {
   "cell_type": "code",
   "execution_count": 25,
   "id": "19c29e03",
   "metadata": {},
   "outputs": [],
   "source": [
    "a = [\"Shirisha\", 45.89, 90, \"Yashwant\", 89, 90]"
   ]
  },
  {
   "cell_type": "code",
   "execution_count": 26,
   "id": "37348ca2",
   "metadata": {},
   "outputs": [
    {
     "data": {
      "text/plain": [
       "['Shirisha', 45.89, 90, 'Yashwant', 89, 90]"
      ]
     },
     "execution_count": 26,
     "metadata": {},
     "output_type": "execute_result"
    }
   ],
   "source": [
    "a"
   ]
  },
  {
   "cell_type": "code",
   "execution_count": 27,
   "id": "f658a426",
   "metadata": {},
   "outputs": [
    {
     "data": {
      "text/plain": [
       "list"
      ]
     },
     "execution_count": 27,
     "metadata": {},
     "output_type": "execute_result"
    }
   ],
   "source": [
    "type(a)"
   ]
  },
  {
   "cell_type": "markdown",
   "id": "61242607",
   "metadata": {},
   "source": [
    "tuple"
   ]
  },
  {
   "cell_type": "code",
   "execution_count": 28,
   "id": "6d1ba1f2",
   "metadata": {},
   "outputs": [],
   "source": [
    "a = (\"Saideekshitha\", 78, 6.4, \"Dinkar\")"
   ]
  },
  {
   "cell_type": "code",
   "execution_count": 29,
   "id": "e20398af",
   "metadata": {},
   "outputs": [
    {
     "data": {
      "text/plain": [
       "tuple"
      ]
     },
     "execution_count": 29,
     "metadata": {},
     "output_type": "execute_result"
    }
   ],
   "source": [
    "type(a)"
   ]
  },
  {
   "cell_type": "code",
   "execution_count": 34,
   "id": "6e36b651",
   "metadata": {},
   "outputs": [],
   "source": [
    "d = {123: \"Manish\", \"college\": \"KLH\", \"age\": 16}"
   ]
  },
  {
   "cell_type": "code",
   "execution_count": 35,
   "id": "31911f96",
   "metadata": {},
   "outputs": [
    {
     "data": {
      "text/plain": [
       "dict"
      ]
     },
     "execution_count": 35,
     "metadata": {},
     "output_type": "execute_result"
    }
   ],
   "source": [
    "type(d)"
   ]
  },
  {
   "cell_type": "code",
   "execution_count": 36,
   "id": "eaae6a40",
   "metadata": {},
   "outputs": [],
   "source": [
    "s = \"Akshay\""
   ]
  },
  {
   "cell_type": "code",
   "execution_count": 37,
   "id": "0094a0c8",
   "metadata": {},
   "outputs": [
    {
     "data": {
      "text/plain": [
       "'sha'"
      ]
     },
     "execution_count": 37,
     "metadata": {},
     "output_type": "execute_result"
    }
   ],
   "source": [
    "s[2:5]"
   ]
  },
  {
   "cell_type": "code",
   "execution_count": 38,
   "id": "40abe7db",
   "metadata": {},
   "outputs": [],
   "source": [
    "s = \"we love food\""
   ]
  },
  {
   "cell_type": "code",
   "execution_count": 39,
   "id": "ddabbdf2",
   "metadata": {},
   "outputs": [
    {
     "data": {
      "text/plain": [
       "'we love '"
      ]
     },
     "execution_count": 39,
     "metadata": {},
     "output_type": "execute_result"
    }
   ],
   "source": [
    "s[0:8]"
   ]
  },
  {
   "cell_type": "code",
   "execution_count": 40,
   "id": "59bbdffc",
   "metadata": {},
   "outputs": [
    {
     "data": {
      "text/plain": [
       "' love food'"
      ]
     },
     "execution_count": 40,
     "metadata": {},
     "output_type": "execute_result"
    }
   ],
   "source": [
    "s[2:100]"
   ]
  },
  {
   "cell_type": "code",
   "execution_count": 41,
   "id": "a3757e74",
   "metadata": {},
   "outputs": [
    {
     "data": {
      "text/plain": [
       "''"
      ]
     },
     "execution_count": 41,
     "metadata": {},
     "output_type": "execute_result"
    }
   ],
   "source": [
    "s[-1:-6]"
   ]
  },
  {
   "cell_type": "code",
   "execution_count": 42,
   "id": "f92eeaf6",
   "metadata": {},
   "outputs": [
    {
     "data": {
      "text/plain": [
       "'of evol'"
      ]
     },
     "execution_count": 42,
     "metadata": {},
     "output_type": "execute_result"
    }
   ],
   "source": [
    "s[9:2:-1]"
   ]
  },
  {
   "cell_type": "code",
   "execution_count": null,
   "id": "15267338",
   "metadata": {},
   "outputs": [],
   "source": []
  }
 ],
 "metadata": {
  "kernelspec": {
   "display_name": "Python 3 (ipykernel)",
   "language": "python",
   "name": "python3"
  },
  "language_info": {
   "codemirror_mode": {
    "name": "ipython",
    "version": 3
   },
   "file_extension": ".py",
   "mimetype": "text/x-python",
   "name": "python",
   "nbconvert_exporter": "python",
   "pygments_lexer": "ipython3",
   "version": "3.9.12"
  }
 },
 "nbformat": 4,
 "nbformat_minor": 5
}
