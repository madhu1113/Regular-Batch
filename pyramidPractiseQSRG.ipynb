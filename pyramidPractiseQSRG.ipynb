{
 "cells": [
  {
   "cell_type": "code",
   "execution_count": 3,
   "id": "a2ea51bd",
   "metadata": {},
   "outputs": [
    {
     "name": "stdout",
     "output_type": "stream",
     "text": [
      "Enter the no:6\n",
      "enter the name:madhu\n",
      "       madhu\n",
      "      madhumadhumadhu\n",
      "     madhumadhumadhumadhumadhu\n",
      "    madhumadhumadhumadhumadhumadhumadhu\n",
      "   madhumadhumadhumadhumadhumadhumadhumadhumadhu\n",
      "  madhumadhumadhumadhumadhumadhumadhumadhumadhumadhumadhu\n"
     ]
    }
   ],
   "source": [
    "n= int(input(\"Enter the no:\")) \n",
    "name=input(\"enter the name:\") \n",
    "for i in range(n): \n",
    "    print(\" \"*(n-i), name * (2*i+1))"
   ]
  },
  {
   "cell_type": "code",
   "execution_count": 5,
   "id": "8ca4667e",
   "metadata": {},
   "outputs": [
    {
     "name": "stdout",
     "output_type": "stream",
     "text": [
      "Enter the no:5\n",
      "enter the name:*\n",
      "           *\n",
      "         ***\n",
      "       *****\n",
      "     *******\n",
      "   *********\n"
     ]
    }
   ],
   "source": [
    "n= int(input(\"Enter the no:\")) \n",
    "name=input(\"enter the name:\") \n",
    "for i in range(n): \n",
    "    print(\"  \"*(n-i),name* (2*i+1))"
   ]
  },
  {
   "cell_type": "raw",
   "id": "1723c0de",
   "metadata": {},
   "source": [
    "                            python \n",
    "                     python python python \n",
    "              python python python python python \n",
    "       python python python python python python python \n",
    "python python python python python python python python python "
   ]
  },
  {
   "cell_type": "code",
   "execution_count": 18,
   "id": "2ac25505",
   "metadata": {},
   "outputs": [
    {
     "name": "stdout",
     "output_type": "stream",
     "text": [
      "Enter the rows:5\n",
      "Enter the name:python\n",
      "                            python \n",
      "                     python python python \n",
      "              python python python python python \n",
      "       python python python python python python python \n",
      "python python python python python python python python python \n",
      "       python python python python python python python \n",
      "              python python python python python \n",
      "                     python python python \n",
      "                            python \n"
     ]
    }
   ],
   "source": [
    "n = int(input(\"Enter the rows:\"))\n",
    "name = input(\"Enter the name:\")\n",
    "for i in range(n):\n",
    "    for j in range(n-i-1):\n",
    "        print(\" \"*len(name), end = \" \")\n",
    "    for j in range(i+1):\n",
    "        print(name, end = \" \")\n",
    "    for j in range(i):\n",
    "        print(name, end = \" \") \n",
    "    print()\n",
    "for i in range(n-1):\n",
    "    for j in range(i+1):\n",
    "        print(\" \"*len(name), end = \" \")\n",
    "    for j in range(n-i-1):\n",
    "        print(name,end = \" \")\n",
    "    for j in range(n-i-2):\n",
    "        print(name, end = \" \")\n",
    "    print()\n",
    "        \n",
    "    \n",
    "        \n",
    "    \n",
    "    "
   ]
  },
  {
   "cell_type": "code",
   "execution_count": 16,
   "id": "5440432b",
   "metadata": {},
   "outputs": [
    {
     "name": "stdout",
     "output_type": "stream",
     "text": [
      "          "
     ]
    }
   ],
   "source": [
    "name = \"yashwanth\"\n",
    "print(\" \"*len(name), end = \" \")"
   ]
  },
  {
   "cell_type": "raw",
   "id": "5fb202ca",
   "metadata": {},
   "source": [
    "                            python \n",
    "                     python python python \n",
    "              python python python python python \n",
    "       python python python python python python python \n",
    "python python python python python python python python python \n",
    "       python python python python python python python \n",
    "              python python python python python \n",
    "                     python python python \n",
    "                            python "
   ]
  }
 ],
 "metadata": {
  "kernelspec": {
   "display_name": "Python 3 (ipykernel)",
   "language": "python",
   "name": "python3"
  },
  "language_info": {
   "codemirror_mode": {
    "name": "ipython",
    "version": 3
   },
   "file_extension": ".py",
   "mimetype": "text/x-python",
   "name": "python",
   "nbconvert_exporter": "python",
   "pygments_lexer": "ipython3",
   "version": "3.9.12"
  }
 },
 "nbformat": 4,
 "nbformat_minor": 5
}
