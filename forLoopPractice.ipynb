{
 "cells": [
  {
   "cell_type": "code",
   "execution_count": 2,
   "id": "c337b0a9",
   "metadata": {},
   "outputs": [],
   "source": [
    "l = [2,3,4,5,6,\"Venkatesh\",6.8,9,12.8,99]"
   ]
  },
  {
   "cell_type": "code",
   "execution_count": 3,
   "id": "a8830217",
   "metadata": {},
   "outputs": [
    {
     "data": {
      "text/plain": [
       "True"
      ]
     },
     "execution_count": 3,
     "metadata": {},
     "output_type": "execute_result"
    }
   ],
   "source": [
    "2 in l"
   ]
  },
  {
   "cell_type": "raw",
   "id": "004ed007",
   "metadata": {},
   "source": []
  },
  {
   "cell_type": "code",
   "execution_count": 4,
   "id": "8e8bb991",
   "metadata": {},
   "outputs": [
    {
     "name": "stdout",
     "output_type": "stream",
     "text": [
      "2\n",
      "3\n",
      "4\n",
      "5\n",
      "6\n",
      "Venkatesh\n",
      "6.8\n",
      "9\n",
      "12.8\n",
      "99\n"
     ]
    }
   ],
   "source": [
    "for i in l:\n",
    "    print(i)"
   ]
  },
  {
   "cell_type": "code",
   "execution_count": 5,
   "id": "4d9bd384",
   "metadata": {},
   "outputs": [
    {
     "ename": "AttributeError",
     "evalue": "'int' object has no attribute 'index'",
     "output_type": "error",
     "traceback": [
      "\u001b[0;31m---------------------------------------------------------------------------\u001b[0m",
      "\u001b[0;31mAttributeError\u001b[0m                            Traceback (most recent call last)",
      "Input \u001b[0;32mIn [5]\u001b[0m, in \u001b[0;36m<cell line: 1>\u001b[0;34m()\u001b[0m\n\u001b[1;32m      1\u001b[0m \u001b[38;5;28;01mfor\u001b[39;00m i \u001b[38;5;129;01min\u001b[39;00m l:\n\u001b[0;32m----> 2\u001b[0m     \u001b[38;5;28mprint\u001b[39m(\u001b[43mi\u001b[49m\u001b[38;5;241;43m.\u001b[39;49m\u001b[43mindex\u001b[49m())\n",
      "\u001b[0;31mAttributeError\u001b[0m: 'int' object has no attribute 'index'"
     ]
    }
   ],
   "source": [
    "for i in l:\n",
    "    print(i.index())"
   ]
  },
  {
   "cell_type": "code",
   "execution_count": 6,
   "id": "31ab871e",
   "metadata": {},
   "outputs": [],
   "source": [
    "t = (2,3,4,5,6,\"Venkatesh\",6.8,9,12.8,99)"
   ]
  },
  {
   "cell_type": "code",
   "execution_count": 7,
   "id": "5bf30b60",
   "metadata": {},
   "outputs": [
    {
     "name": "stdout",
     "output_type": "stream",
     "text": [
      "2\n",
      "3\n",
      "4\n",
      "5\n",
      "6\n",
      "Venkatesh\n",
      "6.8\n",
      "9\n",
      "12.8\n",
      "99\n"
     ]
    }
   ],
   "source": [
    "for i in t:\n",
    "    print(i)"
   ]
  },
  {
   "cell_type": "code",
   "execution_count": 8,
   "id": "57136061",
   "metadata": {},
   "outputs": [],
   "source": [
    "s = {2,3,4,5,6,\"Venkatesh\",6.8,9,12.8,99,9,9,9,9}"
   ]
  },
  {
   "cell_type": "code",
   "execution_count": 9,
   "id": "b5efd817",
   "metadata": {},
   "outputs": [
    {
     "data": {
      "text/plain": [
       "{12.8, 2, 3, 4, 5, 6, 6.8, 9, 99, 'Venkatesh'}"
      ]
     },
     "execution_count": 9,
     "metadata": {},
     "output_type": "execute_result"
    }
   ],
   "source": [
    "s"
   ]
  },
  {
   "cell_type": "code",
   "execution_count": 10,
   "id": "abc32d8c",
   "metadata": {},
   "outputs": [
    {
     "ename": "TypeError",
     "evalue": "'set' object is not subscriptable",
     "output_type": "error",
     "traceback": [
      "\u001b[0;31m---------------------------------------------------------------------------\u001b[0m",
      "\u001b[0;31mTypeError\u001b[0m                                 Traceback (most recent call last)",
      "Input \u001b[0;32mIn [10]\u001b[0m, in \u001b[0;36m<cell line: 1>\u001b[0;34m()\u001b[0m\n\u001b[0;32m----> 1\u001b[0m \u001b[43ms\u001b[49m\u001b[43m[\u001b[49m\u001b[38;5;241;43m0\u001b[39;49m\u001b[43m]\u001b[49m\n",
      "\u001b[0;31mTypeError\u001b[0m: 'set' object is not subscriptable"
     ]
    }
   ],
   "source": [
    "s[0]"
   ]
  },
  {
   "cell_type": "code",
   "execution_count": 11,
   "id": "d0eeb9c3",
   "metadata": {},
   "outputs": [
    {
     "name": "stdout",
     "output_type": "stream",
     "text": [
      "2\n",
      "3\n",
      "4\n",
      "5\n",
      "6\n",
      "6.8\n",
      "Venkatesh\n",
      "9\n",
      "99\n",
      "12.8\n"
     ]
    }
   ],
   "source": [
    "for i in s:\n",
    "    print(i)"
   ]
  },
  {
   "cell_type": "code",
   "execution_count": 12,
   "id": "80fe427d",
   "metadata": {},
   "outputs": [],
   "source": [
    "d = {\"name\":\"Abhiram\", \"Class\":\"sec-1\", \"year\": 2, \"Branch\":\"CSE\"}"
   ]
  },
  {
   "cell_type": "code",
   "execution_count": 15,
   "id": "108d8cfa",
   "metadata": {},
   "outputs": [
    {
     "name": "stdout",
     "output_type": "stream",
     "text": [
      "name : Abhiram\n",
      "Class : sec-1\n",
      "year : 2\n",
      "Branch : CSE\n"
     ]
    }
   ],
   "source": [
    "for i in d:\n",
    "    print(i,\":\",d[i])"
   ]
  },
  {
   "cell_type": "code",
   "execution_count": 14,
   "id": "9d806dac",
   "metadata": {},
   "outputs": [
    {
     "data": {
      "text/plain": [
       "'Abhiram'"
      ]
     },
     "execution_count": 14,
     "metadata": {},
     "output_type": "execute_result"
    }
   ],
   "source": [
    "d[\"name\"]"
   ]
  },
  {
   "cell_type": "code",
   "execution_count": 16,
   "id": "f27ac7fa",
   "metadata": {},
   "outputs": [
    {
     "data": {
      "text/plain": [
       "range(0, 9)"
      ]
     },
     "execution_count": 16,
     "metadata": {},
     "output_type": "execute_result"
    }
   ],
   "source": [
    "range(9)"
   ]
  },
  {
   "cell_type": "code",
   "execution_count": 17,
   "id": "0419eb9d",
   "metadata": {},
   "outputs": [
    {
     "data": {
      "text/plain": [
       "[0, 1, 2, 3, 4, 5, 6, 7, 8]"
      ]
     },
     "execution_count": 17,
     "metadata": {},
     "output_type": "execute_result"
    }
   ],
   "source": [
    "list(range(0,9))"
   ]
  },
  {
   "cell_type": "code",
   "execution_count": 18,
   "id": "b5d84e54",
   "metadata": {},
   "outputs": [
    {
     "data": {
      "text/plain": [
       "[0, 2, 4, 6, 8]"
      ]
     },
     "execution_count": 18,
     "metadata": {},
     "output_type": "execute_result"
    }
   ],
   "source": [
    "list(range(0,9,2))"
   ]
  },
  {
   "cell_type": "code",
   "execution_count": 21,
   "id": "b9663d5a",
   "metadata": {},
   "outputs": [
    {
     "data": {
      "text/plain": [
       "[9, 7, 5, 3, 1]"
      ]
     },
     "execution_count": 21,
     "metadata": {},
     "output_type": "execute_result"
    }
   ],
   "source": [
    "list(range(9,0,-2))"
   ]
  },
  {
   "cell_type": "code",
   "execution_count": 22,
   "id": "ec88e8c6",
   "metadata": {},
   "outputs": [
    {
     "data": {
      "text/plain": [
       "[2, 3, 4, 5, 6, 'Venkatesh', 6.8, 9, 12.8, 99]"
      ]
     },
     "execution_count": 22,
     "metadata": {},
     "output_type": "execute_result"
    }
   ],
   "source": [
    "l"
   ]
  },
  {
   "cell_type": "code",
   "execution_count": 25,
   "id": "0fbd4688",
   "metadata": {},
   "outputs": [
    {
     "name": "stdout",
     "output_type": "stream",
     "text": [
      "0 : 2\n",
      "1 : 3\n",
      "2 : 4\n",
      "3 : 5\n",
      "4 : 6\n",
      "5 : Venkatesh\n",
      "6 : 6.8\n",
      "7 : 9\n",
      "8 : 12.8\n",
      "9 : 99\n"
     ]
    }
   ],
   "source": [
    "for i in range(len(l)):\n",
    "    print(i,\":\",l[i])"
   ]
  },
  {
   "cell_type": "code",
   "execution_count": 26,
   "id": "90ad9dee",
   "metadata": {},
   "outputs": [
    {
     "name": "stdout",
     "output_type": "stream",
     "text": [
      "9 : 99\n",
      "8 : 12.8\n",
      "7 : 9\n",
      "6 : 6.8\n",
      "5 : Venkatesh\n",
      "4 : 6\n",
      "3 : 5\n",
      "2 : 4\n",
      "1 : 3\n"
     ]
    }
   ],
   "source": [
    "for i in range(9,0,-1): \n",
    "    print (i,\":\",l[i])"
   ]
  },
  {
   "cell_type": "code",
   "execution_count": 28,
   "id": "2f0d1e9d",
   "metadata": {},
   "outputs": [
    {
     "name": "stdout",
     "output_type": "stream",
     "text": [
      "0 : 2\n",
      "-1 : 99\n",
      "-2 : 12.8\n",
      "-3 : 9\n",
      "-4 : 6.8\n",
      "-5 : Venkatesh\n",
      "-6 : 6\n",
      "-7 : 5\n",
      "-8 : 4\n",
      "-9 : 3\n"
     ]
    }
   ],
   "source": [
    "for i in range(10): \n",
    "    print(-i,\":\",l[-i])"
   ]
  },
  {
   "cell_type": "code",
   "execution_count": 29,
   "id": "3c465709",
   "metadata": {},
   "outputs": [
    {
     "name": "stdout",
     "output_type": "stream",
     "text": [
      "9 : 99\n",
      "8 : 12.8\n",
      "7 : 9\n",
      "6 : 6.8\n",
      "5 : Venkatesh\n",
      "4 : 6\n",
      "3 : 5\n",
      "2 : 4\n",
      "1 : 3\n"
     ]
    }
   ],
   "source": [
    "for i in range(9,0,-1): \n",
    "    print (i,\":\",l[i])"
   ]
  },
  {
   "cell_type": "code",
   "execution_count": 38,
   "id": "50dc7f74",
   "metadata": {},
   "outputs": [
    {
     "name": "stdout",
     "output_type": "stream",
     "text": [
      "9 : 99\n",
      "8 : 12.8\n",
      "7 : 9\n",
      "6 : 6.8\n",
      "5 : Venkatesh\n",
      "4 : 6\n",
      "3 : 5\n",
      "2 : 4\n",
      "1 : 3\n",
      "0 : 2\n"
     ]
    }
   ],
   "source": [
    "for i in range(len(l)-1,-1,-1): \n",
    "    print (i,\":\",l[i])"
   ]
  },
  {
   "cell_type": "code",
   "execution_count": 39,
   "id": "d7bc666d",
   "metadata": {},
   "outputs": [
    {
     "data": {
      "text/plain": [
       "range(9, -1, -1)"
      ]
     },
     "execution_count": 39,
     "metadata": {},
     "output_type": "execute_result"
    }
   ],
   "source": [
    "range(len(l)-1,-1,-1)"
   ]
  },
  {
   "cell_type": "code",
   "execution_count": 40,
   "id": "46708444",
   "metadata": {},
   "outputs": [
    {
     "name": "stdout",
     "output_type": "stream",
     "text": [
      "Enter the value of list: 3,4,5,6,7,8\n"
     ]
    }
   ],
   "source": [
    "l2 = list(input(\"Enter the value of list: \"))\n"
   ]
  },
  {
   "cell_type": "code",
   "execution_count": 8,
   "id": "61b1c6c3",
   "metadata": {},
   "outputs": [
    {
     "name": "stdout",
     "output_type": "stream",
     "text": [
      "Enter the value of list: 34 465 78 90\n"
     ]
    },
    {
     "ename": "ValueError",
     "evalue": "invalid literal for int() with base 10: '34 465 78 90'",
     "output_type": "error",
     "traceback": [
      "\u001b[0;31m---------------------------------------------------------------------------\u001b[0m",
      "\u001b[0;31mValueError\u001b[0m                                Traceback (most recent call last)",
      "Input \u001b[0;32mIn [8]\u001b[0m, in \u001b[0;36m<cell line: 1>\u001b[0;34m()\u001b[0m\n\u001b[0;32m----> 1\u001b[0m l3 \u001b[38;5;241m=\u001b[39m \u001b[38;5;28;43mint\u001b[39;49m\u001b[43m(\u001b[49m\u001b[38;5;28;43minput\u001b[39;49m\u001b[43m(\u001b[49m\u001b[38;5;124;43m\"\u001b[39;49m\u001b[38;5;124;43mEnter the value of list: \u001b[39;49m\u001b[38;5;124;43m\"\u001b[39;49m\u001b[43m)\u001b[49m\u001b[43m)\u001b[49m\n\u001b[1;32m      2\u001b[0m l4 \u001b[38;5;241m=\u001b[39m \u001b[38;5;28mlist\u001b[39m(l3)\n\u001b[1;32m      3\u001b[0m \u001b[38;5;28;01mfor\u001b[39;00m i \u001b[38;5;129;01min\u001b[39;00m \u001b[38;5;28mrange\u001b[39m(\u001b[38;5;28mlen\u001b[39m(l4)\u001b[38;5;241m-\u001b[39m\u001b[38;5;241m1\u001b[39m,\u001b[38;5;241m-\u001b[39m\u001b[38;5;241m1\u001b[39m,\u001b[38;5;241m-\u001b[39m\u001b[38;5;241m1\u001b[39m):\n",
      "\u001b[0;31mValueError\u001b[0m: invalid literal for int() with base 10: '34 465 78 90'"
     ]
    }
   ],
   "source": [
    "l3 = int(input(\"Enter the value of list: \"))\n",
    "l4 = list(l3)\n",
    "for i in range(len(l4)-1,-1,-1):\n",
    "    if(i == \" \"):\n",
    "        continue\n",
    "    print(i,\":\",l4[i])"
   ]
  },
  {
   "cell_type": "code",
   "execution_count": 1,
   "id": "08e6d48e",
   "metadata": {},
   "outputs": [
    {
     "name": "stdout",
     "output_type": "stream",
     "text": [
      "Enter the value of list: 4 5 6 7 56 78 90 12\n"
     ]
    }
   ],
   "source": [
    "l3 = input(\"Enter the value of list: \")\n",
    "l4 = list(l3)\n",
    "for i in l4:\n",
    "    print(i)"
   ]
  },
  {
   "cell_type": "raw",
   "id": "950c4d95",
   "metadata": {},
   "source": [
    "Enter the no.= 5\n",
    "enter the string = Madhu\n",
    "Madhu\n",
    "Madhu Madhu\n",
    "Madhu Madhu Madhu\n",
    "Madhu Madhu Madhu Madhu\n",
    "Madhu Madhu Madhu Madhu Madhu"
   ]
  },
  {
   "cell_type": "code",
   "execution_count": 14,
   "id": "79b747f6",
   "metadata": {
    "scrolled": true
   },
   "outputs": [
    {
     "name": "stdout",
     "output_type": "stream",
     "text": [
      "Enter the no.: 5\n",
      "Enter the name: hii\n",
      "hii   \n",
      "hii   hii   \n",
      "hii   hii   hii   \n",
      "hii   hii   hii   hii   \n",
      "hii   hii   hii   hii   hii   \n"
     ]
    }
   ],
   "source": [
    "n = int(input(\"Enter the no.: \"))\n",
    "name = input(\"Enter the name: \")\n",
    "for i in range(n):\n",
    "    for j in range(i+1):\n",
    "        print(name,\" \", end = \" \")\n",
    "    print()\n",
    "    "
   ]
  },
  {
   "cell_type": "raw",
   "id": "64064118",
   "metadata": {},
   "source": [
    "name = \"shahzad\"\n",
    "s: 1\n",
    "h: 2\n",
    "a: 2\n",
    "z: 1\n",
    "d: 1"
   ]
  },
  {
   "cell_type": "code",
   "execution_count": 25,
   "id": "e4bcb87c",
   "metadata": {},
   "outputs": [
    {
     "name": "stdout",
     "output_type": "stream",
     "text": [
      "Enter the name: anand\n"
     ]
    }
   ],
   "source": [
    "name = input(\"Enter the name: \")\n",
    "name1 = set(name)"
   ]
  },
  {
   "cell_type": "code",
   "execution_count": 26,
   "id": "289b43ff",
   "metadata": {},
   "outputs": [
    {
     "data": {
      "text/plain": [
       "{'a', 'd', 'n'}"
      ]
     },
     "execution_count": 26,
     "metadata": {},
     "output_type": "execute_result"
    }
   ],
   "source": [
    "name1"
   ]
  },
  {
   "cell_type": "code",
   "execution_count": 29,
   "id": "6444e459",
   "metadata": {},
   "outputs": [
    {
     "name": "stdout",
     "output_type": "stream",
     "text": [
      "d : 1\n",
      "a : 2\n",
      "n : 2\n"
     ]
    }
   ],
   "source": [
    "for i in name1:\n",
    "    print(i,\":\",name.count(i))"
   ]
  },
  {
   "cell_type": "raw",
   "id": "1c804e73",
   "metadata": {},
   "source": [
    "   Enter the no.: 3   \n",
    "   enter the name: name\n",
    "            name\n",
    "       name name name\n",
    "  name name name name name\n",
    "       name name name\n",
    "            name"
   ]
  },
  {
   "cell_type": "code",
   "execution_count": null,
   "id": "5d8564b8",
   "metadata": {},
   "outputs": [],
   "source": [
    "       enter the string:= 3\n",
    "        enter the name: Madhu\n",
    "        Madhu\n",
    "    Madhu    Madhu\n",
    "Madhu    Madhu    Madhu\n"
   ]
  }
 ],
 "metadata": {
  "kernelspec": {
   "display_name": "Python 3 (ipykernel)",
   "language": "python",
   "name": "python3"
  },
  "language_info": {
   "codemirror_mode": {
    "name": "ipython",
    "version": 3
   },
   "file_extension": ".py",
   "mimetype": "text/x-python",
   "name": "python",
   "nbconvert_exporter": "python",
   "pygments_lexer": "ipython3",
   "version": "3.9.12"
  }
 },
 "nbformat": 4,
 "nbformat_minor": 5
}
