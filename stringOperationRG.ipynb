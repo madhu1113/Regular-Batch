{
 "cells": [
  {
   "cell_type": "code",
   "execution_count": 1,
   "id": "792e185f",
   "metadata": {},
   "outputs": [],
   "source": [
    "str = \"pavan kumar\""
   ]
  },
  {
   "cell_type": "code",
   "execution_count": 2,
   "id": "bcea4bf6",
   "metadata": {},
   "outputs": [
    {
     "data": {
      "text/plain": [
       "'Pavan kumar'"
      ]
     },
     "execution_count": 2,
     "metadata": {},
     "output_type": "execute_result"
    }
   ],
   "source": [
    "str.capitalize()"
   ]
  },
  {
   "cell_type": "code",
   "execution_count": 3,
   "id": "bfa7a8a1",
   "metadata": {},
   "outputs": [
    {
     "data": {
      "text/plain": [
       "'Pavan Kumar'"
      ]
     },
     "execution_count": 3,
     "metadata": {},
     "output_type": "execute_result"
    }
   ],
   "source": [
    "str.title()"
   ]
  },
  {
   "cell_type": "code",
   "execution_count": 4,
   "id": "baccace2",
   "metadata": {},
   "outputs": [],
   "source": [
    "str = \"    Vamshi Dhar    \""
   ]
  },
  {
   "cell_type": "code",
   "execution_count": 5,
   "id": "cb9c0819",
   "metadata": {},
   "outputs": [
    {
     "data": {
      "text/plain": [
       "'Vamshi Dhar'"
      ]
     },
     "execution_count": 5,
     "metadata": {},
     "output_type": "execute_result"
    }
   ],
   "source": [
    "str.strip()"
   ]
  },
  {
   "cell_type": "code",
   "execution_count": 6,
   "id": "7ec3bc21",
   "metadata": {},
   "outputs": [
    {
     "data": {
      "text/plain": [
       "'Vamshi Dhar    '"
      ]
     },
     "execution_count": 6,
     "metadata": {},
     "output_type": "execute_result"
    }
   ],
   "source": [
    "str.lstrip()"
   ]
  },
  {
   "cell_type": "code",
   "execution_count": 7,
   "id": "cc65b8f2",
   "metadata": {},
   "outputs": [
    {
     "data": {
      "text/plain": [
       "'    Vamshi Dhar'"
      ]
     },
     "execution_count": 7,
     "metadata": {},
     "output_type": "execute_result"
    }
   ],
   "source": [
    "str.rstrip()"
   ]
  },
  {
   "cell_type": "code",
   "execution_count": 8,
   "id": "03d3da7e",
   "metadata": {},
   "outputs": [
    {
     "data": {
      "text/plain": [
       "'*****    Vamshi Dhar    ******'"
      ]
     },
     "execution_count": 8,
     "metadata": {},
     "output_type": "execute_result"
    }
   ],
   "source": [
    "str.center(30,\"*\")"
   ]
  },
  {
   "cell_type": "code",
   "execution_count": 9,
   "id": "a2f7600b",
   "metadata": {},
   "outputs": [],
   "source": [
    "str1 = \"Ganesh\""
   ]
  },
  {
   "cell_type": "code",
   "execution_count": 10,
   "id": "adfd6201",
   "metadata": {},
   "outputs": [
    {
     "data": {
      "text/plain": [
       "'###########################Ganesh###########################'"
      ]
     },
     "execution_count": 10,
     "metadata": {},
     "output_type": "execute_result"
    }
   ],
   "source": [
    "str1.center(60,\"#\")"
   ]
  },
  {
   "cell_type": "code",
   "execution_count": 11,
   "id": "407a5478",
   "metadata": {},
   "outputs": [
    {
     "data": {
      "text/plain": [
       "1"
      ]
     },
     "execution_count": 11,
     "metadata": {},
     "output_type": "execute_result"
    }
   ],
   "source": [
    "str1.count(\"a\")"
   ]
  },
  {
   "cell_type": "code",
   "execution_count": 12,
   "id": "b8b7973f",
   "metadata": {},
   "outputs": [],
   "source": [
    "str2 = \"greeshmai\""
   ]
  },
  {
   "cell_type": "code",
   "execution_count": 13,
   "id": "b1878be1",
   "metadata": {},
   "outputs": [
    {
     "data": {
      "text/plain": [
       "2"
      ]
     },
     "execution_count": 13,
     "metadata": {},
     "output_type": "execute_result"
    }
   ],
   "source": [
    "str2.count(\"e\")"
   ]
  },
  {
   "cell_type": "code",
   "execution_count": 14,
   "id": "625e4fb6",
   "metadata": {},
   "outputs": [
    {
     "data": {
      "text/plain": [
       "2"
      ]
     },
     "execution_count": 14,
     "metadata": {},
     "output_type": "execute_result"
    }
   ],
   "source": [
    "str2.index(\"e\")"
   ]
  },
  {
   "cell_type": "code",
   "execution_count": 15,
   "id": "188e95d8",
   "metadata": {},
   "outputs": [
    {
     "data": {
      "text/plain": [
       "3"
      ]
     },
     "execution_count": 15,
     "metadata": {},
     "output_type": "execute_result"
    }
   ],
   "source": [
    "str1.index(\"e\")"
   ]
  },
  {
   "cell_type": "code",
   "execution_count": 16,
   "id": "4152ae0c",
   "metadata": {},
   "outputs": [],
   "source": [
    "str3 = \"Sanjay\""
   ]
  },
  {
   "cell_type": "code",
   "execution_count": 17,
   "id": "0c5c027f",
   "metadata": {},
   "outputs": [
    {
     "data": {
      "text/plain": [
       "'SANJAY'"
      ]
     },
     "execution_count": 17,
     "metadata": {},
     "output_type": "execute_result"
    }
   ],
   "source": [
    "str3.upper()"
   ]
  },
  {
   "cell_type": "code",
   "execution_count": 23,
   "id": "cfdce03a",
   "metadata": {},
   "outputs": [],
   "source": [
    "str4 = \"SHAshank\""
   ]
  },
  {
   "cell_type": "code",
   "execution_count": 24,
   "id": "5cccaad3",
   "metadata": {},
   "outputs": [
    {
     "data": {
      "text/plain": [
       "'shashank'"
      ]
     },
     "execution_count": 24,
     "metadata": {},
     "output_type": "execute_result"
    }
   ],
   "source": [
    "str4.lower()"
   ]
  },
  {
   "cell_type": "code",
   "execution_count": 25,
   "id": "e8f2abd0",
   "metadata": {},
   "outputs": [
    {
     "data": {
      "text/plain": [
       "'shaSHANK'"
      ]
     },
     "execution_count": 25,
     "metadata": {},
     "output_type": "execute_result"
    }
   ],
   "source": [
    "str4.swapcase()"
   ]
  },
  {
   "cell_type": "code",
   "execution_count": 26,
   "id": "bf1f1bc2",
   "metadata": {},
   "outputs": [
    {
     "data": {
      "text/plain": [
       "['SHAsh', 'nk']"
      ]
     },
     "execution_count": 26,
     "metadata": {},
     "output_type": "execute_result"
    }
   ],
   "source": [
    "str4.split(\"a\")"
   ]
  },
  {
   "cell_type": "code",
   "execution_count": 27,
   "id": "88f0e92b",
   "metadata": {},
   "outputs": [
    {
     "data": {
      "text/plain": [
       "True"
      ]
     },
     "execution_count": 27,
     "metadata": {},
     "output_type": "execute_result"
    }
   ],
   "source": [
    "str4.isalnum()"
   ]
  },
  {
   "cell_type": "code",
   "execution_count": 1,
   "id": "10c07969",
   "metadata": {},
   "outputs": [],
   "source": [
    "str5 = \"sashank123\""
   ]
  },
  {
   "cell_type": "code",
   "execution_count": 2,
   "id": "7b61cfa5",
   "metadata": {},
   "outputs": [
    {
     "data": {
      "text/plain": [
       "False"
      ]
     },
     "execution_count": 2,
     "metadata": {},
     "output_type": "execute_result"
    }
   ],
   "source": [
    "str5.isalpha()"
   ]
  },
  {
   "cell_type": "code",
   "execution_count": 3,
   "id": "1595989b",
   "metadata": {},
   "outputs": [
    {
     "data": {
      "text/plain": [
       "True"
      ]
     },
     "execution_count": 3,
     "metadata": {},
     "output_type": "execute_result"
    }
   ],
   "source": [
    "str5.isalnum()"
   ]
  },
  {
   "cell_type": "code",
   "execution_count": 4,
   "id": "60ec3f15",
   "metadata": {},
   "outputs": [
    {
     "data": {
      "text/plain": [
       "True"
      ]
     },
     "execution_count": 4,
     "metadata": {},
     "output_type": "execute_result"
    }
   ],
   "source": [
    "str5.isascii()"
   ]
  },
  {
   "cell_type": "code",
   "execution_count": 6,
   "id": "a4d40a16",
   "metadata": {},
   "outputs": [
    {
     "data": {
      "text/plain": [
       "False"
      ]
     },
     "execution_count": 6,
     "metadata": {},
     "output_type": "execute_result"
    }
   ],
   "source": [
    "str5.isdigit()"
   ]
  },
  {
   "cell_type": "code",
   "execution_count": 12,
   "id": "b86ec66e",
   "metadata": {},
   "outputs": [],
   "source": [
    "str6 = \"343543\""
   ]
  },
  {
   "cell_type": "code",
   "execution_count": 13,
   "id": "ce5bac52",
   "metadata": {},
   "outputs": [
    {
     "data": {
      "text/plain": [
       "True"
      ]
     },
     "execution_count": 13,
     "metadata": {},
     "output_type": "execute_result"
    }
   ],
   "source": [
    "str6.isdigit()"
   ]
  },
  {
   "cell_type": "code",
   "execution_count": 14,
   "id": "21264420",
   "metadata": {},
   "outputs": [
    {
     "data": {
      "text/plain": [
       "True"
      ]
     },
     "execution_count": 14,
     "metadata": {},
     "output_type": "execute_result"
    }
   ],
   "source": [
    "str6.isnumeric()"
   ]
  },
  {
   "cell_type": "code",
   "execution_count": 15,
   "id": "2aa1c5ff",
   "metadata": {},
   "outputs": [
    {
     "data": {
      "text/plain": [
       "True"
      ]
     },
     "execution_count": 15,
     "metadata": {},
     "output_type": "execute_result"
    }
   ],
   "source": [
    "str6.isdecimal()"
   ]
  },
  {
   "cell_type": "code",
   "execution_count": 16,
   "id": "f0473071",
   "metadata": {},
   "outputs": [],
   "source": [
    "str7 = \"Bharath\""
   ]
  },
  {
   "cell_type": "code",
   "execution_count": 17,
   "id": "e583faa0",
   "metadata": {},
   "outputs": [
    {
     "data": {
      "text/plain": [
       "False"
      ]
     },
     "execution_count": 17,
     "metadata": {},
     "output_type": "execute_result"
    }
   ],
   "source": [
    "str7.isupper()"
   ]
  },
  {
   "cell_type": "code",
   "execution_count": 18,
   "id": "09149732",
   "metadata": {},
   "outputs": [
    {
     "data": {
      "text/plain": [
       "False"
      ]
     },
     "execution_count": 18,
     "metadata": {},
     "output_type": "execute_result"
    }
   ],
   "source": [
    "str7.islower()"
   ]
  },
  {
   "cell_type": "code",
   "execution_count": 19,
   "id": "9061107f",
   "metadata": {},
   "outputs": [],
   "source": [
    "str8 = \"bharath\""
   ]
  },
  {
   "cell_type": "code",
   "execution_count": 20,
   "id": "9ee0d579",
   "metadata": {},
   "outputs": [
    {
     "data": {
      "text/plain": [
       "True"
      ]
     },
     "execution_count": 20,
     "metadata": {},
     "output_type": "execute_result"
    }
   ],
   "source": [
    "str8.islower()"
   ]
  },
  {
   "cell_type": "code",
   "execution_count": 21,
   "id": "1890d14b",
   "metadata": {},
   "outputs": [
    {
     "ename": "AttributeError",
     "evalue": "'str' object has no attribute 'reverse'",
     "output_type": "error",
     "traceback": [
      "\u001b[0;31m---------------------------------------------------------------------------\u001b[0m",
      "\u001b[0;31mAttributeError\u001b[0m                            Traceback (most recent call last)",
      "Input \u001b[0;32mIn [21]\u001b[0m, in \u001b[0;36m<cell line: 1>\u001b[0;34m()\u001b[0m\n\u001b[0;32m----> 1\u001b[0m \u001b[43mstr8\u001b[49m\u001b[38;5;241;43m.\u001b[39;49m\u001b[43mreverse\u001b[49m()\n",
      "\u001b[0;31mAttributeError\u001b[0m: 'str' object has no attribute 'reverse'"
     ]
    }
   ],
   "source": [
    "str8.reverse()"
   ]
  },
  {
   "cell_type": "code",
   "execution_count": 22,
   "id": "e03141d7",
   "metadata": {},
   "outputs": [
    {
     "data": {
      "text/plain": [
       "'b*h*a*r*a*t*h'"
      ]
     },
     "execution_count": 22,
     "metadata": {},
     "output_type": "execute_result"
    }
   ],
   "source": [
    "\"*\".join(str8)"
   ]
  },
  {
   "cell_type": "code",
   "execution_count": null,
   "id": "7b4949be",
   "metadata": {},
   "outputs": [],
   "source": []
  }
 ],
 "metadata": {
  "kernelspec": {
   "display_name": "Python 3 (ipykernel)",
   "language": "python",
   "name": "python3"
  },
  "language_info": {
   "codemirror_mode": {
    "name": "ipython",
    "version": 3
   },
   "file_extension": ".py",
   "mimetype": "text/x-python",
   "name": "python",
   "nbconvert_exporter": "python",
   "pygments_lexer": "ipython3",
   "version": "3.9.12"
  }
 },
 "nbformat": 4,
 "nbformat_minor": 5
}
