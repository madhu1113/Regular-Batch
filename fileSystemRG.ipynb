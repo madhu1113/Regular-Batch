{
 "cells": [
  {
   "cell_type": "markdown",
   "id": "fedb1c95",
   "metadata": {},
   "source": [
    "# File System"
   ]
  },
  {
   "cell_type": "code",
   "execution_count": 12,
   "id": "3f9927c7",
   "metadata": {},
   "outputs": [
    {
     "ename": "FileNotFoundError",
     "evalue": "[Errno 2] No such file or directory: 'regular.txt'",
     "output_type": "error",
     "traceback": [
      "\u001b[0;31m---------------------------------------------------------------------------\u001b[0m",
      "\u001b[0;31mFileNotFoundError\u001b[0m                         Traceback (most recent call last)",
      "Input \u001b[0;32mIn [12]\u001b[0m, in \u001b[0;36m<cell line: 1>\u001b[0;34m()\u001b[0m\n\u001b[0;32m----> 1\u001b[0m f \u001b[38;5;241m=\u001b[39m \u001b[38;5;28;43mopen\u001b[39;49m\u001b[43m(\u001b[49m\u001b[38;5;124;43m\"\u001b[39;49m\u001b[38;5;124;43mregular.txt\u001b[39;49m\u001b[38;5;124;43m\"\u001b[39;49m\u001b[43m)\u001b[49m\n",
      "\u001b[0;31mFileNotFoundError\u001b[0m: [Errno 2] No such file or directory: 'regular.txt'"
     ]
    }
   ],
   "source": [
    "f = open(\"regular.txt\")"
   ]
  },
  {
   "cell_type": "code",
   "execution_count": 13,
   "id": "79d3d242",
   "metadata": {},
   "outputs": [],
   "source": [
    "f = open(\"regular.txt\",'w')"
   ]
  },
  {
   "cell_type": "code",
   "execution_count": null,
   "id": "9f0d2c82",
   "metadata": {},
   "outputs": [],
   "source": []
  },
  {
   "cell_type": "code",
   "execution_count": 14,
   "id": "7b64ba11",
   "metadata": {},
   "outputs": [
    {
     "data": {
      "text/plain": [
       "'/Users/madhu/Desktop/Data Science/iNeuron/Python/Everyday class/exceptionHandling'"
      ]
     },
     "execution_count": 14,
     "metadata": {},
     "output_type": "execute_result"
    }
   ],
   "source": [
    "pwd"
   ]
  },
  {
   "cell_type": "code",
   "execution_count": 16,
   "id": "4f83f0eb",
   "metadata": {},
   "outputs": [
    {
     "data": {
      "text/plain": [
       "32"
      ]
     },
     "execution_count": 16,
     "metadata": {},
     "output_type": "execute_result"
    }
   ],
   "source": [
    "f.write(\"This is my first file operation \")"
   ]
  },
  {
   "cell_type": "code",
   "execution_count": 17,
   "id": "9a9dd904",
   "metadata": {},
   "outputs": [],
   "source": [
    "f.close()"
   ]
  },
  {
   "cell_type": "code",
   "execution_count": 18,
   "id": "1b82b63d",
   "metadata": {},
   "outputs": [],
   "source": [
    "l = [2,3,4,5,6]"
   ]
  },
  {
   "cell_type": "code",
   "execution_count": 19,
   "id": "f67c978f",
   "metadata": {},
   "outputs": [],
   "source": [
    "f1 = open(\"regular1.txt\",'w')"
   ]
  },
  {
   "cell_type": "code",
   "execution_count": 22,
   "id": "cb3c0a0d",
   "metadata": {},
   "outputs": [
    {
     "data": {
      "text/plain": [
       "15"
      ]
     },
     "execution_count": 22,
     "metadata": {},
     "output_type": "execute_result"
    }
   ],
   "source": [
    "f1.write(str(l))"
   ]
  },
  {
   "cell_type": "code",
   "execution_count": 23,
   "id": "b15ea7bf",
   "metadata": {},
   "outputs": [],
   "source": [
    "f1.close()"
   ]
  },
  {
   "cell_type": "code",
   "execution_count": 24,
   "id": "1573fbc3",
   "metadata": {},
   "outputs": [],
   "source": [
    "f2 = open(\"regular2.madhu\", 'w')"
   ]
  },
  {
   "cell_type": "code",
   "execution_count": 25,
   "id": "2be5ef1f",
   "metadata": {},
   "outputs": [
    {
     "data": {
      "text/plain": [
       "29"
      ]
     },
     "execution_count": 25,
     "metadata": {},
     "output_type": "execute_result"
    }
   ],
   "source": [
    "f2.write(\"I love doing coding in python\")"
   ]
  },
  {
   "cell_type": "code",
   "execution_count": 26,
   "id": "1a9d6c3a",
   "metadata": {},
   "outputs": [],
   "source": [
    "f2.close()"
   ]
  },
  {
   "cell_type": "code",
   "execution_count": 27,
   "id": "065a2baa",
   "metadata": {},
   "outputs": [],
   "source": [
    "# 2nd method of create, write over the file"
   ]
  },
  {
   "cell_type": "code",
   "execution_count": 29,
   "id": "94c8a41f",
   "metadata": {},
   "outputs": [
    {
     "name": "stdout",
     "output_type": "stream",
     "text": [
      "Overwriting regular3.txt\n"
     ]
    }
   ],
   "source": [
    "%%writefile regular3.txt\n",
    "This is my python program to write into a file in different way.\n",
    "This is my python program to write into a file in different way.\n",
    "This is my python program to write into a file in different way.\n",
    "This is my python program to write into a file in different way.\n",
    "This is my python program to write into a file in different way."
   ]
  },
  {
   "cell_type": "code",
   "execution_count": 30,
   "id": "37607fa6",
   "metadata": {},
   "outputs": [],
   "source": [
    "f3 = open(\"regular3.txt\")"
   ]
  },
  {
   "cell_type": "code",
   "execution_count": 31,
   "id": "18ae3b49",
   "metadata": {},
   "outputs": [
    {
     "data": {
      "text/plain": [
       "'This is my python program to write into a file in different way.\\nThis is my python program to write into a file in different way.\\nThis is my python program to write into a file in different way.\\nThis is my python program to write into a file in different way.\\nThis is my python program to write into a file in different way.\\n'"
      ]
     },
     "execution_count": 31,
     "metadata": {},
     "output_type": "execute_result"
    }
   ],
   "source": [
    "f3.read()"
   ]
  },
  {
   "cell_type": "code",
   "execution_count": 32,
   "id": "8f227981",
   "metadata": {},
   "outputs": [
    {
     "data": {
      "text/plain": [
       "''"
      ]
     },
     "execution_count": 32,
     "metadata": {},
     "output_type": "execute_result"
    }
   ],
   "source": [
    "f3.read()"
   ]
  },
  {
   "cell_type": "code",
   "execution_count": 33,
   "id": "84bcfe49",
   "metadata": {},
   "outputs": [
    {
     "data": {
      "text/plain": [
       "0"
      ]
     },
     "execution_count": 33,
     "metadata": {},
     "output_type": "execute_result"
    }
   ],
   "source": [
    "f3.seek(0)"
   ]
  },
  {
   "cell_type": "code",
   "execution_count": 34,
   "id": "b2efa65e",
   "metadata": {},
   "outputs": [
    {
     "data": {
      "text/plain": [
       "'This is my python program to write into a file in different way.\\nThis is my python program to write into a file in different way.\\nThis is my python program to write into a file in different way.\\nThis is my python program to write into a file in different way.\\nThis is my python program to write into a file in different way.\\n'"
      ]
     },
     "execution_count": 34,
     "metadata": {},
     "output_type": "execute_result"
    }
   ],
   "source": [
    "f3.read()"
   ]
  },
  {
   "cell_type": "code",
   "execution_count": 35,
   "id": "be297410",
   "metadata": {},
   "outputs": [
    {
     "data": {
      "text/plain": [
       "50"
      ]
     },
     "execution_count": 35,
     "metadata": {},
     "output_type": "execute_result"
    }
   ],
   "source": [
    "f3.seek(50)"
   ]
  },
  {
   "cell_type": "code",
   "execution_count": 36,
   "id": "2642e4aa",
   "metadata": {},
   "outputs": [
    {
     "data": {
      "text/plain": [
       "'different way.\\nThis is my python program to write into a file in different way.\\nThis is my python program to write into a file in different way.\\nThis is my python program to write into a file in different way.\\nThis is my python program to write into a file in different way.\\n'"
      ]
     },
     "execution_count": 36,
     "metadata": {},
     "output_type": "execute_result"
    }
   ],
   "source": [
    "f3.read()"
   ]
  },
  {
   "cell_type": "code",
   "execution_count": 37,
   "id": "8bc666a0",
   "metadata": {},
   "outputs": [
    {
     "data": {
      "text/plain": [
       "325"
      ]
     },
     "execution_count": 37,
     "metadata": {},
     "output_type": "execute_result"
    }
   ],
   "source": [
    "f3.tell()"
   ]
  },
  {
   "cell_type": "code",
   "execution_count": 42,
   "id": "a2f1e842",
   "metadata": {},
   "outputs": [
    {
     "data": {
      "text/plain": [
       "5"
      ]
     },
     "execution_count": 42,
     "metadata": {},
     "output_type": "execute_result"
    }
   ],
   "source": [
    "f3.seek(5)"
   ]
  },
  {
   "cell_type": "code",
   "execution_count": 43,
   "id": "53d038b4",
   "metadata": {},
   "outputs": [
    {
     "data": {
      "text/plain": [
       "5"
      ]
     },
     "execution_count": 43,
     "metadata": {},
     "output_type": "execute_result"
    }
   ],
   "source": [
    "f3.tell()"
   ]
  },
  {
   "cell_type": "code",
   "execution_count": 44,
   "id": "4e46f67f",
   "metadata": {},
   "outputs": [
    {
     "data": {
      "text/plain": [
       "'is my python program to write into a file in diffe'"
      ]
     },
     "execution_count": 44,
     "metadata": {},
     "output_type": "execute_result"
    }
   ],
   "source": [
    "f3.read(50)"
   ]
  },
  {
   "cell_type": "code",
   "execution_count": 45,
   "id": "1d3cec05",
   "metadata": {},
   "outputs": [
    {
     "data": {
      "text/plain": [
       "55"
      ]
     },
     "execution_count": 45,
     "metadata": {},
     "output_type": "execute_result"
    }
   ],
   "source": [
    "f3.tell()"
   ]
  },
  {
   "cell_type": "code",
   "execution_count": 46,
   "id": "2dc62db4",
   "metadata": {},
   "outputs": [
    {
     "data": {
      "text/plain": [
       "50"
      ]
     },
     "execution_count": 46,
     "metadata": {},
     "output_type": "execute_result"
    }
   ],
   "source": [
    "f3.seek(50)"
   ]
  },
  {
   "cell_type": "code",
   "execution_count": 47,
   "id": "96399ee7",
   "metadata": {},
   "outputs": [
    {
     "data": {
      "text/plain": [
       "50"
      ]
     },
     "execution_count": 47,
     "metadata": {},
     "output_type": "execute_result"
    }
   ],
   "source": [
    "f3.tell()"
   ]
  },
  {
   "cell_type": "code",
   "execution_count": 48,
   "id": "b510bc3c",
   "metadata": {},
   "outputs": [
    {
     "data": {
      "text/plain": [
       "'different way.\\nThis is my python program to write into a file in different way.\\nThis is my python pr'"
      ]
     },
     "execution_count": 48,
     "metadata": {},
     "output_type": "execute_result"
    }
   ],
   "source": [
    "f3.read(100)"
   ]
  },
  {
   "cell_type": "code",
   "execution_count": 49,
   "id": "ed9ccd78",
   "metadata": {},
   "outputs": [
    {
     "data": {
      "text/plain": [
       "150"
      ]
     },
     "execution_count": 49,
     "metadata": {},
     "output_type": "execute_result"
    }
   ],
   "source": [
    "f3.tell()"
   ]
  },
  {
   "cell_type": "code",
   "execution_count": 52,
   "id": "60ef6064",
   "metadata": {},
   "outputs": [
    {
     "data": {
      "text/plain": [
       "79"
      ]
     },
     "execution_count": 52,
     "metadata": {},
     "output_type": "execute_result"
    }
   ],
   "source": [
    "f3.fileno()"
   ]
  },
  {
   "cell_type": "code",
   "execution_count": 51,
   "id": "ce825acf",
   "metadata": {},
   "outputs": [
    {
     "ename": "UnsupportedOperation",
     "evalue": "not writable",
     "output_type": "error",
     "traceback": [
      "\u001b[0;31m---------------------------------------------------------------------------\u001b[0m",
      "\u001b[0;31mUnsupportedOperation\u001b[0m                      Traceback (most recent call last)",
      "Input \u001b[0;32mIn [51]\u001b[0m, in \u001b[0;36m<cell line: 1>\u001b[0;34m()\u001b[0m\n\u001b[0;32m----> 1\u001b[0m \u001b[43mf3\u001b[49m\u001b[38;5;241;43m.\u001b[39;49m\u001b[43mwrite\u001b[49m\u001b[43m(\u001b[49m\u001b[38;5;124;43m\"\u001b[39;49m\u001b[38;5;124;43mwe are overwriting in file f3\u001b[39;49m\u001b[38;5;124;43m\"\u001b[39;49m\u001b[43m)\u001b[49m\n",
      "\u001b[0;31mUnsupportedOperation\u001b[0m: not writable"
     ]
    }
   ],
   "source": [
    "f3.write(\"we are overwriting in file f3\")"
   ]
  },
  {
   "cell_type": "code",
   "execution_count": 53,
   "id": "71146696",
   "metadata": {},
   "outputs": [],
   "source": [
    "f3.close()"
   ]
  },
  {
   "cell_type": "code",
   "execution_count": 54,
   "id": "3a4cec68",
   "metadata": {},
   "outputs": [
    {
     "ename": "ValueError",
     "evalue": "I/O operation on closed file.",
     "output_type": "error",
     "traceback": [
      "\u001b[0;31m---------------------------------------------------------------------------\u001b[0m",
      "\u001b[0;31mValueError\u001b[0m                                Traceback (most recent call last)",
      "Input \u001b[0;32mIn [54]\u001b[0m, in \u001b[0;36m<cell line: 1>\u001b[0;34m()\u001b[0m\n\u001b[0;32m----> 1\u001b[0m \u001b[43mf3\u001b[49m\u001b[38;5;241;43m.\u001b[39;49m\u001b[43mwrite\u001b[49m\u001b[43m(\u001b[49m\u001b[38;5;124;43m\"\u001b[39;49m\u001b[38;5;124;43mwe are overwriting in file f3\u001b[39;49m\u001b[38;5;124;43m\"\u001b[39;49m\u001b[43m)\u001b[49m\n",
      "\u001b[0;31mValueError\u001b[0m: I/O operation on closed file."
     ]
    }
   ],
   "source": [
    "f3.write(\"we are overwriting in file f3\")"
   ]
  },
  {
   "cell_type": "code",
   "execution_count": 56,
   "id": "f2b79245",
   "metadata": {},
   "outputs": [
    {
     "data": {
      "text/plain": [
       "<_io.TextIOWrapper name='regular3.txt' mode='w' encoding='UTF-8'>"
      ]
     },
     "execution_count": 56,
     "metadata": {},
     "output_type": "execute_result"
    }
   ],
   "source": [
    "open(\"regular3.txt\", 'w')"
   ]
  },
  {
   "cell_type": "code",
   "execution_count": 57,
   "id": "df5a0d2d",
   "metadata": {},
   "outputs": [
    {
     "ename": "ValueError",
     "evalue": "I/O operation on closed file.",
     "output_type": "error",
     "traceback": [
      "\u001b[0;31m---------------------------------------------------------------------------\u001b[0m",
      "\u001b[0;31mValueError\u001b[0m                                Traceback (most recent call last)",
      "Input \u001b[0;32mIn [57]\u001b[0m, in \u001b[0;36m<cell line: 1>\u001b[0;34m()\u001b[0m\n\u001b[0;32m----> 1\u001b[0m \u001b[43mf3\u001b[49m\u001b[38;5;241;43m.\u001b[39;49m\u001b[43mwrite\u001b[49m\u001b[43m(\u001b[49m\u001b[38;5;124;43m\"\u001b[39;49m\u001b[38;5;124;43mwe are overwriting in file f3\u001b[39;49m\u001b[38;5;124;43m\"\u001b[39;49m\u001b[43m)\u001b[49m\n",
      "\u001b[0;31mValueError\u001b[0m: I/O operation on closed file."
     ]
    }
   ],
   "source": [
    "f3.write(\"we are overwriting in file f3\")"
   ]
  },
  {
   "cell_type": "code",
   "execution_count": 58,
   "id": "a20d13a0",
   "metadata": {},
   "outputs": [],
   "source": [
    "f4 = open(\"regualr4.txt\",'w')"
   ]
  },
  {
   "cell_type": "code",
   "execution_count": 59,
   "id": "d5e6e507",
   "metadata": {},
   "outputs": [
    {
     "data": {
      "text/plain": [
       "49"
      ]
     },
     "execution_count": 59,
     "metadata": {},
     "output_type": "execute_result"
    }
   ],
   "source": [
    "f4.write(\"ksdjnfsajd sdjhfoajsdhv dshfa wdoivh. dsofihasd f\")"
   ]
  },
  {
   "cell_type": "code",
   "execution_count": 60,
   "id": "78ae2182",
   "metadata": {},
   "outputs": [],
   "source": [
    "f4.close()"
   ]
  },
  {
   "cell_type": "code",
   "execution_count": 63,
   "id": "c630c79e",
   "metadata": {},
   "outputs": [],
   "source": [
    "f4 = open(\"regualr4.txt\",'w')"
   ]
  },
  {
   "cell_type": "code",
   "execution_count": 64,
   "id": "cf968369",
   "metadata": {},
   "outputs": [
    {
     "data": {
      "text/plain": [
       "26"
      ]
     },
     "execution_count": 64,
     "metadata": {},
     "output_type": "execute_result"
    }
   ],
   "source": [
    "f4.write(\"we are overwriting over f4\")"
   ]
  },
  {
   "cell_type": "code",
   "execution_count": 65,
   "id": "be479d15",
   "metadata": {},
   "outputs": [],
   "source": [
    "f4.close()"
   ]
  },
  {
   "cell_type": "code",
   "execution_count": 66,
   "id": "831f4e8f",
   "metadata": {},
   "outputs": [],
   "source": [
    "f4 = open(\"regualr4.txt\",'a')"
   ]
  },
  {
   "cell_type": "code",
   "execution_count": 67,
   "id": "c22dc7f0",
   "metadata": {},
   "outputs": [
    {
     "data": {
      "text/plain": [
       "26"
      ]
     },
     "execution_count": 67,
     "metadata": {},
     "output_type": "execute_result"
    }
   ],
   "source": [
    "f4.write(\"we are overwriting over f4\")"
   ]
  },
  {
   "cell_type": "code",
   "execution_count": 68,
   "id": "3f32e180",
   "metadata": {},
   "outputs": [],
   "source": [
    "f4.close()"
   ]
  },
  {
   "cell_type": "code",
   "execution_count": 69,
   "id": "0f41aac8",
   "metadata": {},
   "outputs": [
    {
     "ename": "ValueError",
     "evalue": "I/O operation on closed file.",
     "output_type": "error",
     "traceback": [
      "\u001b[0;31m---------------------------------------------------------------------------\u001b[0m",
      "\u001b[0;31mValueError\u001b[0m                                Traceback (most recent call last)",
      "Input \u001b[0;32mIn [69]\u001b[0m, in \u001b[0;36m<cell line: 1>\u001b[0;34m()\u001b[0m\n\u001b[0;32m----> 1\u001b[0m \u001b[43mf4\u001b[49m\u001b[38;5;241;43m.\u001b[39;49m\u001b[43mreadline\u001b[49m\u001b[43m(\u001b[49m\u001b[43m)\u001b[49m\n",
      "\u001b[0;31mValueError\u001b[0m: I/O operation on closed file."
     ]
    }
   ],
   "source": [
    "f4.readline()"
   ]
  },
  {
   "cell_type": "code",
   "execution_count": 72,
   "id": "ea281b96",
   "metadata": {},
   "outputs": [],
   "source": [
    "f4 = open(\"regualr4.txt\",'a')"
   ]
  },
  {
   "cell_type": "code",
   "execution_count": 73,
   "id": "25caf746",
   "metadata": {},
   "outputs": [
    {
     "ename": "UnsupportedOperation",
     "evalue": "not readable",
     "output_type": "error",
     "traceback": [
      "\u001b[0;31m---------------------------------------------------------------------------\u001b[0m",
      "\u001b[0;31mUnsupportedOperation\u001b[0m                      Traceback (most recent call last)",
      "Input \u001b[0;32mIn [73]\u001b[0m, in \u001b[0;36m<cell line: 1>\u001b[0;34m()\u001b[0m\n\u001b[0;32m----> 1\u001b[0m \u001b[43mf4\u001b[49m\u001b[38;5;241;43m.\u001b[39;49m\u001b[43mreadline\u001b[49m\u001b[43m(\u001b[49m\u001b[43m)\u001b[49m\n",
      "\u001b[0;31mUnsupportedOperation\u001b[0m: not readable"
     ]
    }
   ],
   "source": [
    "f4.readline()"
   ]
  },
  {
   "cell_type": "code",
   "execution_count": null,
   "id": "1d00e5ce",
   "metadata": {},
   "outputs": [],
   "source": []
  }
 ],
 "metadata": {
  "kernelspec": {
   "display_name": "Python 3 (ipykernel)",
   "language": "python",
   "name": "python3"
  },
  "language_info": {
   "codemirror_mode": {
    "name": "ipython",
    "version": 3
   },
   "file_extension": ".py",
   "mimetype": "text/x-python",
   "name": "python",
   "nbconvert_exporter": "python",
   "pygments_lexer": "ipython3",
   "version": "3.9.12"
  }
 },
 "nbformat": 4,
 "nbformat_minor": 5
}
